{
 "cells": [
  {
   "cell_type": "code",
   "execution_count": 2,
   "id": "5b42f7a9",
   "metadata": {},
   "outputs": [],
   "source": [
    "import json\n",
    "import time\n",
    "import requests\n",
    "import sqlite3\n",
    "import pandas as pd"
   ]
  },
  {
   "cell_type": "markdown",
   "id": "b523f3fd",
   "metadata": {},
   "source": [
    "##### Capitalisation boursière = Cours actuel x Offre en circulation\n",
    "\n",
    "##### Désigne la valeur marchande totale de l’offre en circulation d’une crypto-monnaie. Semblable à la mesure du marché boursier  qui multiplie le cours par action par les actions facilement disponibles sur le marché (non détenues ni bloquées par des  initiés, des gouvernements)."
   ]
  },
  {
   "cell_type": "code",
   "execution_count": 3,
   "id": "8864a42e",
   "metadata": {},
   "outputs": [],
   "source": [
    "## REQUEST\n",
    "#Obtenir le prix actuel de toutes les crypto-monnaies dans toutes les autres devises prises en charge dont vous avez besoin.\n",
    "response_5 = requests.get(\"https://api.coingecko.com/api/v3/simple/price?ids=bitcoin%2Clitecoin&vs_currencies=eur%2Cusd&include_market_cap=true&include_24hr_vol=true&include_24hr_change=true&include_last_updated_at=true&precision=2\")\n",
    "simple_price = response_5.json()\n",
    "#print(simple_price)\n",
    "#print(simple_price[\"bitcoin\"][\"eur_market_cap\"])\n"
   ]
  },
  {
   "cell_type": "code",
   "execution_count": 6,
   "id": "63eae9cf",
   "metadata": {},
   "outputs": [
    {
     "name": "stdout",
     "output_type": "stream",
     "text": [
      "euro: 24114.42 \n",
      "dollar: 26031.48 \n",
      "capitalisation boursiere €: 469444244554.7783 \n",
      "Volume de négociation sur 24 h: 488051495.8954078 \n",
      "derniere Maj Prix: 1693051798\n",
      "<class 'int'>\n"
     ]
    }
   ],
   "source": [
    "## PARSE\n",
    "for dict in simple_price[\"bitcoin\"]:\n",
    "    eur = simple_price[\"bitcoin\"][\"eur\"]\n",
    "    eur_market_cap = simple_price[\"bitcoin\"][\"eur_market_cap\"]\n",
    "    eur_24h_vol = simple_price[\"bitcoin\"][\"eur_24h_vol\"]\n",
    "    eur_24h_change = simple_price[\"bitcoin\"][\"eur_24h_change\"]\n",
    "    usd = simple_price[\"bitcoin\"][\"usd\"]\n",
    "    usd_market_cap = simple_price[\"bitcoin\"][\"usd_market_cap\"]\n",
    "    usd_24h_vol = simple_price[\"bitcoin\"][\"usd_24h_vol\"]\n",
    "    usd_24h_change = simple_price[\"bitcoin\"][\"usd_24h_change\"]\n",
    "    last_updated_at = simple_price[\"bitcoin\"][\"last_updated_at\"]\n",
    "print('euro:',eur,\"\\n\"'dollar:',usd,\"\\n\"'capitalisation boursiere €:',eur_market_cap,\"\\n\"'Volume de négociation sur 24 h:',eur_24h_vol,\"\\n\"'derniere Maj Prix:',last_updated_at)\n",
    "print(type(last_updated_at))"
   ]
  },
  {
   "cell_type": "code",
   "execution_count": 4,
   "id": "87ab4452",
   "metadata": {},
   "outputs": [],
   "source": [
    "## BDD\n",
    "#création de la Bdd SQLite si existe + création de la connexion\n",
    "conn = sqlite3.connect(\"ProjectBTC.db\")\n",
    "cur = conn.cursor()"
   ]
  },
  {
   "cell_type": "code",
   "execution_count": null,
   "id": "4b050832",
   "metadata": {},
   "outputs": [],
   "source": [
    "## Bdd ajout colonne \n",
    "#req_1 = \"\"\"ALTER TABLE btc ADD COLUMN eur_market_cap INTEGER\"\"\"\n",
    "req_1 = \"\"\"ALTER TABLE btc ADD COLUMN eur_24h_vol INTEGER\"\"\"\n",
    "# Exécution de la requete \n",
    "cur.execute(req_1) \n",
    "# Envoyer la requete \n",
    "conn.commit() \n",
    "# Fermer la connexion \n",
    "conn.close()"
   ]
  },
  {
   "cell_type": "code",
   "execution_count": null,
   "id": "cb1052f4",
   "metadata": {},
   "outputs": [],
   "source": [
    "## BDD\n",
    "# requete création table si n'existe pas\n",
    "req = \"\"\"CREATE TABLE IF NOT EXISTS btc(\n",
    "    id INTEGER PRIMARY KEY AUTOINCREMENT, \n",
    "    eur INTEGER NOT NULL, \n",
    "    usd INTEGER NOT NULL,    \n",
    "    last_update INTEGER NOT NULL,\n",
    "    eur_market_cap INTEGER NOT NULL,\n",
    "    eur_24h_vol INTEGER NOT NULL)\"\"\" \n",
    "# Exécution de la requete \n",
    "cur.execute(req) \n",
    "# Envoyer la requete \n",
    "conn.commit() \n",
    "# Fermer la connexion \n",
    "conn.close()"
   ]
  },
  {
   "cell_type": "code",
   "execution_count": 84,
   "id": "766fd1fd",
   "metadata": {},
   "outputs": [
    {
     "name": "stdout",
     "output_type": "stream",
     "text": [
      "time.struct_time(tm_year=2023, tm_mon=8, tm_mday=23, tm_hour=9, tm_min=54, tm_sec=40, tm_wday=2, tm_yday=235, tm_isdst=1)\n",
      "<class 'time.struct_time'>\n",
      "2023-08-23 09:54:40\n"
     ]
    }
   ],
   "source": [
    "## Transformation = TIME\n",
    "\n",
    "#last_updated_1 = time.strftime(\"%Y-%m-%d %H:%M:%S\", time.gmtime(last_updated_at))\n",
    "last_updated_1 = time.localtime(last_updated_at)\n",
    "formatted_local_time = time.strftime(\"%Y-%m-%d %H:%M:%S\", last_updated_1) \n",
    "print(last_updated_1)\n",
    "print(type(last_updated_1))\n",
    "print(formatted_local_time)\n",
    "\n"
   ]
  },
  {
   "cell_type": "code",
   "execution_count": 6,
   "id": "0adf3266",
   "metadata": {},
   "outputs": [],
   "source": [
    "## INSERT\n",
    "conn = sqlite3.connect(\"ProjectBTC.db\")\n",
    "cur = conn.cursor()\n",
    "req1 = 'INSERT INTO btc(eur,usd,last_update,eur_market_cap,eur_24h_vol) VALUES(?,?,?,?,?)'\n",
    "val1 = (eur,usd,last_updated_1,eur_market_cap,eur_24h_vol)\n",
    "cur.execute(req1,val1)\n",
    "conn.commit() \n",
    "cur.close()"
   ]
  },
  {
   "cell_type": "code",
   "execution_count": null,
   "id": "a0bfcde9",
   "metadata": {},
   "outputs": [],
   "source": [
    "## UPDATE unixepoch line\n",
    "\n",
    "#conn = sqlite3.connect(\"ProjectBTC.db\")\n",
    "#cur = connexion.cursor()\n",
    "#req2 = 'update btc set last_update = datetime(last_update, 'unixepoch', 'localtime') where last_update like '16%';'\n",
    "\n",
    "#cur.execute(req2)\n",
    "\n",
    "#cur.close()"
   ]
  },
  {
   "cell_type": "code",
   "execution_count": 7,
   "id": "f1dbf036",
   "metadata": {},
   "outputs": [
    {
     "name": "stdout",
     "output_type": "stream",
     "text": [
      "(7292, 23979.29, 26015.63, '2023-08-23 01:14:56', 466677140072.07733, 9329058234.743841)\n"
     ]
    }
   ],
   "source": [
    "## PRINT\n",
    "cur = conn.cursor()\n",
    "# cur.execute(\"select * from btc\")\n",
    "#cur.execute(\"select eur,usd,last_update,eur_market_cap,eur_24h_vol from btc order by last_update DESC limit(10)\")\n",
    "cur.execute(\"select * from btc WHERE DATE(last_update) = DATE('now')\")\n",
    "records = cur.fetchall()\n",
    "\n",
    "print(records[0])"
   ]
  },
  {
   "cell_type": "code",
   "execution_count": 10,
   "id": "a973b611",
   "metadata": {},
   "outputs": [
    {
     "data": {
      "text/html": [
       "<div>\n",
       "<style scoped>\n",
       "    .dataframe tbody tr th:only-of-type {\n",
       "        vertical-align: middle;\n",
       "    }\n",
       "\n",
       "    .dataframe tbody tr th {\n",
       "        vertical-align: top;\n",
       "    }\n",
       "\n",
       "    .dataframe thead th {\n",
       "        text-align: right;\n",
       "    }\n",
       "</style>\n",
       "<table border=\"1\" class=\"dataframe\">\n",
       "  <thead>\n",
       "    <tr style=\"text-align: right;\">\n",
       "      <th></th>\n",
       "      <th>id</th>\n",
       "      <th>eur</th>\n",
       "      <th>usd</th>\n",
       "      <th>last_update</th>\n",
       "      <th>eur_market_cap</th>\n",
       "      <th>eur_24h_vol</th>\n",
       "    </tr>\n",
       "  </thead>\n",
       "  <tbody>\n",
       "    <tr>\n",
       "      <th>0</th>\n",
       "      <td>7292</td>\n",
       "      <td>23979.29</td>\n",
       "      <td>26015.63</td>\n",
       "      <td>2023-08-23 01:14:56</td>\n",
       "      <td>4.666771e+11</td>\n",
       "      <td>9.329058e+09</td>\n",
       "    </tr>\n",
       "    <tr>\n",
       "      <th>1</th>\n",
       "      <td>7293</td>\n",
       "      <td>23982.77</td>\n",
       "      <td>26021.53</td>\n",
       "      <td>2023-08-23 01:19:55</td>\n",
       "      <td>4.666771e+11</td>\n",
       "      <td>1.321158e+10</td>\n",
       "    </tr>\n",
       "    <tr>\n",
       "      <th>2</th>\n",
       "      <td>7294</td>\n",
       "      <td>23953.83</td>\n",
       "      <td>25998.62</td>\n",
       "      <td>2023-08-23 01:24:56</td>\n",
       "      <td>4.665311e+11</td>\n",
       "      <td>1.083450e+10</td>\n",
       "    </tr>\n",
       "    <tr>\n",
       "      <th>3</th>\n",
       "      <td>7295</td>\n",
       "      <td>23953.83</td>\n",
       "      <td>25998.62</td>\n",
       "      <td>2023-08-23 01:24:56</td>\n",
       "      <td>4.665311e+11</td>\n",
       "      <td>1.083450e+10</td>\n",
       "    </tr>\n",
       "    <tr>\n",
       "      <th>4</th>\n",
       "      <td>7296</td>\n",
       "      <td>23975.64</td>\n",
       "      <td>26022.43</td>\n",
       "      <td>2023-08-23 01:35:02</td>\n",
       "      <td>4.667246e+11</td>\n",
       "      <td>1.047794e+10</td>\n",
       "    </tr>\n",
       "    <tr>\n",
       "      <th>...</th>\n",
       "      <td>...</td>\n",
       "      <td>...</td>\n",
       "      <td>...</td>\n",
       "      <td>...</td>\n",
       "      <td>...</td>\n",
       "      <td>...</td>\n",
       "    </tr>\n",
       "    <tr>\n",
       "      <th>77</th>\n",
       "      <td>7369</td>\n",
       "      <td>24073.46</td>\n",
       "      <td>26045.52</td>\n",
       "      <td>2023-08-23 07:39:58</td>\n",
       "      <td>4.674576e+11</td>\n",
       "      <td>9.402202e+09</td>\n",
       "    </tr>\n",
       "    <tr>\n",
       "      <th>78</th>\n",
       "      <td>7370</td>\n",
       "      <td>24058.96</td>\n",
       "      <td>26022.46</td>\n",
       "      <td>2023-08-23 07:44:55</td>\n",
       "      <td>4.685672e+11</td>\n",
       "      <td>1.259141e+10</td>\n",
       "    </tr>\n",
       "    <tr>\n",
       "      <th>79</th>\n",
       "      <td>7371</td>\n",
       "      <td>24058.96</td>\n",
       "      <td>26022.46</td>\n",
       "      <td>2023-08-23 07:44:55</td>\n",
       "      <td>4.685672e+11</td>\n",
       "      <td>1.259141e+10</td>\n",
       "    </tr>\n",
       "    <tr>\n",
       "      <th>80</th>\n",
       "      <td>7372</td>\n",
       "      <td>24056.47</td>\n",
       "      <td>26041.49</td>\n",
       "      <td>2023-08-23 07:54:40</td>\n",
       "      <td>4.685842e+11</td>\n",
       "      <td>1.081903e+10</td>\n",
       "    </tr>\n",
       "    <tr>\n",
       "      <th>81</th>\n",
       "      <td>7373</td>\n",
       "      <td>24056.47</td>\n",
       "      <td>26041.49</td>\n",
       "      <td>2023-08-23 07:54:40</td>\n",
       "      <td>4.685842e+11</td>\n",
       "      <td>1.081903e+10</td>\n",
       "    </tr>\n",
       "  </tbody>\n",
       "</table>\n",
       "<p>82 rows × 6 columns</p>\n",
       "</div>"
      ],
      "text/plain": [
       "      id       eur       usd          last_update  eur_market_cap   \n",
       "0   7292  23979.29  26015.63  2023-08-23 01:14:56    4.666771e+11  \\\n",
       "1   7293  23982.77  26021.53  2023-08-23 01:19:55    4.666771e+11   \n",
       "2   7294  23953.83  25998.62  2023-08-23 01:24:56    4.665311e+11   \n",
       "3   7295  23953.83  25998.62  2023-08-23 01:24:56    4.665311e+11   \n",
       "4   7296  23975.64  26022.43  2023-08-23 01:35:02    4.667246e+11   \n",
       "..   ...       ...       ...                  ...             ...   \n",
       "77  7369  24073.46  26045.52  2023-08-23 07:39:58    4.674576e+11   \n",
       "78  7370  24058.96  26022.46  2023-08-23 07:44:55    4.685672e+11   \n",
       "79  7371  24058.96  26022.46  2023-08-23 07:44:55    4.685672e+11   \n",
       "80  7372  24056.47  26041.49  2023-08-23 07:54:40    4.685842e+11   \n",
       "81  7373  24056.47  26041.49  2023-08-23 07:54:40    4.685842e+11   \n",
       "\n",
       "     eur_24h_vol  \n",
       "0   9.329058e+09  \n",
       "1   1.321158e+10  \n",
       "2   1.083450e+10  \n",
       "3   1.083450e+10  \n",
       "4   1.047794e+10  \n",
       "..           ...  \n",
       "77  9.402202e+09  \n",
       "78  1.259141e+10  \n",
       "79  1.259141e+10  \n",
       "80  1.081903e+10  \n",
       "81  1.081903e+10  \n",
       "\n",
       "[82 rows x 6 columns]"
      ]
     },
     "execution_count": 10,
     "metadata": {},
     "output_type": "execute_result"
    }
   ],
   "source": [
    "#DATAFRAME\n",
    "\n",
    "df_btc = pd.read_sql('''select * from btc WHERE DATE(last_update) = DATE('now')''',conn,)\n",
    "#df_btc = pd.read_sql('select eur,usd,last_update,eur_market_cap,eur_24h_vol from btc order by last_update',conn,)\n",
    "#df_btc = pd.read_sql('''select eur,usd,last_update from btc where last_update like '2023-08-17%' ''',conn,)\n",
    "#df_btc = pd.read_sql('select eur,usd,last_update from btc order by last_update DESC limit(10)',conn,)\n",
    "df_btc"
   ]
  },
  {
   "cell_type": "code",
   "execution_count": 19,
   "id": "d08a31a9",
   "metadata": {},
   "outputs": [
    {
     "data": {
      "text/html": [
       "<div>\n",
       "<style scoped>\n",
       "    .dataframe tbody tr th:only-of-type {\n",
       "        vertical-align: middle;\n",
       "    }\n",
       "\n",
       "    .dataframe tbody tr th {\n",
       "        vertical-align: top;\n",
       "    }\n",
       "\n",
       "    .dataframe thead th {\n",
       "        text-align: right;\n",
       "    }\n",
       "</style>\n",
       "<table border=\"1\" class=\"dataframe\">\n",
       "  <thead>\n",
       "    <tr style=\"text-align: right;\">\n",
       "      <th></th>\n",
       "      <th>id</th>\n",
       "      <th>eur</th>\n",
       "      <th>usd</th>\n",
       "      <th>last_update</th>\n",
       "      <th>eur_market_cap</th>\n",
       "      <th>eur_24h_vol</th>\n",
       "      <th>nbr_doublon</th>\n",
       "    </tr>\n",
       "  </thead>\n",
       "  <tbody>\n",
       "    <tr>\n",
       "      <th>0</th>\n",
       "      <td>7294</td>\n",
       "      <td>23953.83</td>\n",
       "      <td>25998.62</td>\n",
       "      <td>2023-08-23 01:24:56</td>\n",
       "      <td>4.665311e+11</td>\n",
       "      <td>1.083450e+10</td>\n",
       "      <td>2</td>\n",
       "    </tr>\n",
       "    <tr>\n",
       "      <th>1</th>\n",
       "      <td>7298</td>\n",
       "      <td>24008.26</td>\n",
       "      <td>26052.56</td>\n",
       "      <td>2023-08-23 01:44:58</td>\n",
       "      <td>4.665688e+11</td>\n",
       "      <td>1.376598e+10</td>\n",
       "      <td>3</td>\n",
       "    </tr>\n",
       "    <tr>\n",
       "      <th>2</th>\n",
       "      <td>7303</td>\n",
       "      <td>24002.12</td>\n",
       "      <td>26055.53</td>\n",
       "      <td>2023-08-23 02:09:54</td>\n",
       "      <td>4.668559e+11</td>\n",
       "      <td>6.393497e+09</td>\n",
       "      <td>2</td>\n",
       "    </tr>\n",
       "    <tr>\n",
       "      <th>3</th>\n",
       "      <td>7305</td>\n",
       "      <td>23977.55</td>\n",
       "      <td>26028.82</td>\n",
       "      <td>2023-08-23 02:19:56</td>\n",
       "      <td>4.671402e+11</td>\n",
       "      <td>1.272023e+10</td>\n",
       "      <td>2</td>\n",
       "    </tr>\n",
       "    <tr>\n",
       "      <th>4</th>\n",
       "      <td>7308</td>\n",
       "      <td>23983.53</td>\n",
       "      <td>26030.52</td>\n",
       "      <td>2023-08-23 02:35:00</td>\n",
       "      <td>4.669033e+11</td>\n",
       "      <td>8.865623e+09</td>\n",
       "      <td>2</td>\n",
       "    </tr>\n",
       "    <tr>\n",
       "      <th>5</th>\n",
       "      <td>7311</td>\n",
       "      <td>23980.36</td>\n",
       "      <td>26034.28</td>\n",
       "      <td>2023-08-23 02:49:54</td>\n",
       "      <td>4.669458e+11</td>\n",
       "      <td>1.379545e+10</td>\n",
       "      <td>2</td>\n",
       "    </tr>\n",
       "    <tr>\n",
       "      <th>6</th>\n",
       "      <td>7313</td>\n",
       "      <td>23981.85</td>\n",
       "      <td>26029.91</td>\n",
       "      <td>2023-08-23 03:00:02</td>\n",
       "      <td>4.667686e+11</td>\n",
       "      <td>1.081206e+10</td>\n",
       "      <td>2</td>\n",
       "    </tr>\n",
       "    <tr>\n",
       "      <th>7</th>\n",
       "      <td>7319</td>\n",
       "      <td>23954.76</td>\n",
       "      <td>25998.59</td>\n",
       "      <td>2023-08-23 03:30:02</td>\n",
       "      <td>4.667386e+11</td>\n",
       "      <td>1.166482e+10</td>\n",
       "      <td>2</td>\n",
       "    </tr>\n",
       "    <tr>\n",
       "      <th>8</th>\n",
       "      <td>7324</td>\n",
       "      <td>23936.47</td>\n",
       "      <td>25990.61</td>\n",
       "      <td>2023-08-23 03:55:02</td>\n",
       "      <td>4.659783e+11</td>\n",
       "      <td>1.115889e+10</td>\n",
       "      <td>2</td>\n",
       "    </tr>\n",
       "    <tr>\n",
       "      <th>9</th>\n",
       "      <td>7325</td>\n",
       "      <td>23946.98</td>\n",
       "      <td>26000.33</td>\n",
       "      <td>2023-08-23 04:00:01</td>\n",
       "      <td>4.659783e+11</td>\n",
       "      <td>1.383363e+10</td>\n",
       "      <td>2</td>\n",
       "    </tr>\n",
       "    <tr>\n",
       "      <th>10</th>\n",
       "      <td>7329</td>\n",
       "      <td>23938.72</td>\n",
       "      <td>25991.31</td>\n",
       "      <td>2023-08-23 04:19:56</td>\n",
       "      <td>4.657328e+11</td>\n",
       "      <td>1.120820e+10</td>\n",
       "      <td>2</td>\n",
       "    </tr>\n",
       "    <tr>\n",
       "      <th>11</th>\n",
       "      <td>7332</td>\n",
       "      <td>23948.13</td>\n",
       "      <td>25996.90</td>\n",
       "      <td>2023-08-23 04:35:00</td>\n",
       "      <td>4.662026e+11</td>\n",
       "      <td>9.938527e+09</td>\n",
       "      <td>2</td>\n",
       "    </tr>\n",
       "    <tr>\n",
       "      <th>12</th>\n",
       "      <td>7336</td>\n",
       "      <td>23985.20</td>\n",
       "      <td>26043.73</td>\n",
       "      <td>2023-08-23 04:54:54</td>\n",
       "      <td>4.665721e+11</td>\n",
       "      <td>1.237239e+10</td>\n",
       "      <td>3</td>\n",
       "    </tr>\n",
       "    <tr>\n",
       "      <th>13</th>\n",
       "      <td>7341</td>\n",
       "      <td>23965.06</td>\n",
       "      <td>26030.64</td>\n",
       "      <td>2023-08-23 05:19:54</td>\n",
       "      <td>4.661893e+11</td>\n",
       "      <td>1.346738e+10</td>\n",
       "      <td>2</td>\n",
       "    </tr>\n",
       "    <tr>\n",
       "      <th>14</th>\n",
       "      <td>7343</td>\n",
       "      <td>23955.51</td>\n",
       "      <td>26019.28</td>\n",
       "      <td>2023-08-23 05:30:00</td>\n",
       "      <td>4.663194e+11</td>\n",
       "      <td>8.621539e+09</td>\n",
       "      <td>3</td>\n",
       "    </tr>\n",
       "    <tr>\n",
       "      <th>15</th>\n",
       "      <td>7350</td>\n",
       "      <td>23967.47</td>\n",
       "      <td>26033.48</td>\n",
       "      <td>2023-08-23 06:04:56</td>\n",
       "      <td>4.666925e+11</td>\n",
       "      <td>1.036577e+10</td>\n",
       "      <td>2</td>\n",
       "    </tr>\n",
       "    <tr>\n",
       "      <th>16</th>\n",
       "      <td>7353</td>\n",
       "      <td>23993.01</td>\n",
       "      <td>26046.89</td>\n",
       "      <td>2023-08-23 06:20:00</td>\n",
       "      <td>4.667975e+11</td>\n",
       "      <td>1.355627e+10</td>\n",
       "      <td>3</td>\n",
       "    </tr>\n",
       "    <tr>\n",
       "      <th>17</th>\n",
       "      <td>7363</td>\n",
       "      <td>23991.80</td>\n",
       "      <td>26054.06</td>\n",
       "      <td>2023-08-23 07:09:59</td>\n",
       "      <td>4.670127e+11</td>\n",
       "      <td>1.267176e+10</td>\n",
       "      <td>2</td>\n",
       "    </tr>\n",
       "    <tr>\n",
       "      <th>18</th>\n",
       "      <td>7365</td>\n",
       "      <td>24043.65</td>\n",
       "      <td>26111.92</td>\n",
       "      <td>2023-08-23 07:20:01</td>\n",
       "      <td>4.680436e+11</td>\n",
       "      <td>1.244335e+10</td>\n",
       "      <td>2</td>\n",
       "    </tr>\n",
       "    <tr>\n",
       "      <th>19</th>\n",
       "      <td>7370</td>\n",
       "      <td>24058.96</td>\n",
       "      <td>26022.46</td>\n",
       "      <td>2023-08-23 07:44:55</td>\n",
       "      <td>4.685672e+11</td>\n",
       "      <td>1.259141e+10</td>\n",
       "      <td>2</td>\n",
       "    </tr>\n",
       "    <tr>\n",
       "      <th>20</th>\n",
       "      <td>7372</td>\n",
       "      <td>24056.47</td>\n",
       "      <td>26041.49</td>\n",
       "      <td>2023-08-23 07:54:40</td>\n",
       "      <td>4.685842e+11</td>\n",
       "      <td>1.081903e+10</td>\n",
       "      <td>2</td>\n",
       "    </tr>\n",
       "    <tr>\n",
       "      <th>21</th>\n",
       "      <td>7374</td>\n",
       "      <td>24069.00</td>\n",
       "      <td>26045.12</td>\n",
       "      <td>2023-08-23 07:59:59</td>\n",
       "      <td>4.685842e+11</td>\n",
       "      <td>9.913698e+09</td>\n",
       "      <td>3</td>\n",
       "    </tr>\n",
       "  </tbody>\n",
       "</table>\n",
       "</div>"
      ],
      "text/plain": [
       "      id       eur       usd          last_update  eur_market_cap   \n",
       "0   7294  23953.83  25998.62  2023-08-23 01:24:56    4.665311e+11  \\\n",
       "1   7298  24008.26  26052.56  2023-08-23 01:44:58    4.665688e+11   \n",
       "2   7303  24002.12  26055.53  2023-08-23 02:09:54    4.668559e+11   \n",
       "3   7305  23977.55  26028.82  2023-08-23 02:19:56    4.671402e+11   \n",
       "4   7308  23983.53  26030.52  2023-08-23 02:35:00    4.669033e+11   \n",
       "5   7311  23980.36  26034.28  2023-08-23 02:49:54    4.669458e+11   \n",
       "6   7313  23981.85  26029.91  2023-08-23 03:00:02    4.667686e+11   \n",
       "7   7319  23954.76  25998.59  2023-08-23 03:30:02    4.667386e+11   \n",
       "8   7324  23936.47  25990.61  2023-08-23 03:55:02    4.659783e+11   \n",
       "9   7325  23946.98  26000.33  2023-08-23 04:00:01    4.659783e+11   \n",
       "10  7329  23938.72  25991.31  2023-08-23 04:19:56    4.657328e+11   \n",
       "11  7332  23948.13  25996.90  2023-08-23 04:35:00    4.662026e+11   \n",
       "12  7336  23985.20  26043.73  2023-08-23 04:54:54    4.665721e+11   \n",
       "13  7341  23965.06  26030.64  2023-08-23 05:19:54    4.661893e+11   \n",
       "14  7343  23955.51  26019.28  2023-08-23 05:30:00    4.663194e+11   \n",
       "15  7350  23967.47  26033.48  2023-08-23 06:04:56    4.666925e+11   \n",
       "16  7353  23993.01  26046.89  2023-08-23 06:20:00    4.667975e+11   \n",
       "17  7363  23991.80  26054.06  2023-08-23 07:09:59    4.670127e+11   \n",
       "18  7365  24043.65  26111.92  2023-08-23 07:20:01    4.680436e+11   \n",
       "19  7370  24058.96  26022.46  2023-08-23 07:44:55    4.685672e+11   \n",
       "20  7372  24056.47  26041.49  2023-08-23 07:54:40    4.685842e+11   \n",
       "21  7374  24069.00  26045.12  2023-08-23 07:59:59    4.685842e+11   \n",
       "\n",
       "     eur_24h_vol  nbr_doublon  \n",
       "0   1.083450e+10            2  \n",
       "1   1.376598e+10            3  \n",
       "2   6.393497e+09            2  \n",
       "3   1.272023e+10            2  \n",
       "4   8.865623e+09            2  \n",
       "5   1.379545e+10            2  \n",
       "6   1.081206e+10            2  \n",
       "7   1.166482e+10            2  \n",
       "8   1.115889e+10            2  \n",
       "9   1.383363e+10            2  \n",
       "10  1.120820e+10            2  \n",
       "11  9.938527e+09            2  \n",
       "12  1.237239e+10            3  \n",
       "13  1.346738e+10            2  \n",
       "14  8.621539e+09            3  \n",
       "15  1.036577e+10            2  \n",
       "16  1.355627e+10            3  \n",
       "17  1.267176e+10            2  \n",
       "18  1.244335e+10            2  \n",
       "19  1.259141e+10            2  \n",
       "20  1.081903e+10            2  \n",
       "21  9.913698e+09            3  "
      ]
     },
     "execution_count": 19,
     "metadata": {},
     "output_type": "execute_result"
    }
   ],
   "source": [
    "# DETECTION DE DOUBLON\n",
    "df_btc_doublon = pd.read_sql('''SELECT *, COUNT(*) AS nbr_doublon FROM btc where DATE(last_update) = DATE('now') GROUP BY last_update HAVING COUNT(*) > 1 ''',conn,)\n",
    "#df_btc_doublon = pd.read_sql('''SELECT COUNT(*) AS nbr_doublon, eur,last_update,eur_market_cap FROM btc  where last_update like '2023-08-05%' GROUP BY last_update HAVING COUNT(*) > 1 ''',conn,)\n",
    "df_btc_doublon\n"
   ]
  },
  {
   "cell_type": "code",
   "execution_count": 33,
   "id": "abbcb7dd",
   "metadata": {},
   "outputs": [
    {
     "data": {
      "text/plain": [
       "25"
      ]
     },
     "execution_count": 33,
     "metadata": {},
     "output_type": "execute_result"
    }
   ],
   "source": [
    "# NBRE DE DOUBLONS => df_btc\n",
    "df_btc.duplicated(subset='last_update').sum()"
   ]
  },
  {
   "cell_type": "code",
   "execution_count": 42,
   "id": "757de488",
   "metadata": {},
   "outputs": [
    {
     "data": {
      "text/plain": [
       "False    57\n",
       "True     25\n",
       "Name: count, dtype: int64"
      ]
     },
     "execution_count": 42,
     "metadata": {},
     "output_type": "execute_result"
    }
   ],
   "source": [
    "# BOOLEEN TRUE = DOUBLON => df_btc\n",
    "#df_btc.duplicated(subset='last_update')\n",
    "df_btc.duplicated(subset='last_update').value_counts()"
   ]
  },
  {
   "cell_type": "code",
   "execution_count": 46,
   "id": "46d37ab7",
   "metadata": {},
   "outputs": [
    {
     "data": {
      "text/html": [
       "<div>\n",
       "<style scoped>\n",
       "    .dataframe tbody tr th:only-of-type {\n",
       "        vertical-align: middle;\n",
       "    }\n",
       "\n",
       "    .dataframe tbody tr th {\n",
       "        vertical-align: top;\n",
       "    }\n",
       "\n",
       "    .dataframe thead th {\n",
       "        text-align: right;\n",
       "    }\n",
       "</style>\n",
       "<table border=\"1\" class=\"dataframe\">\n",
       "  <thead>\n",
       "    <tr style=\"text-align: right;\">\n",
       "      <th></th>\n",
       "      <th>id</th>\n",
       "      <th>eur</th>\n",
       "      <th>usd</th>\n",
       "      <th>last_update</th>\n",
       "      <th>eur_market_cap</th>\n",
       "      <th>eur_24h_vol</th>\n",
       "    </tr>\n",
       "  </thead>\n",
       "  <tbody>\n",
       "    <tr>\n",
       "      <th>0</th>\n",
       "      <td>7292</td>\n",
       "      <td>23979.29</td>\n",
       "      <td>26015.63</td>\n",
       "      <td>2023-08-23 01:14:56</td>\n",
       "      <td>4.666771e+11</td>\n",
       "      <td>9.329058e+09</td>\n",
       "    </tr>\n",
       "    <tr>\n",
       "      <th>1</th>\n",
       "      <td>7293</td>\n",
       "      <td>23982.77</td>\n",
       "      <td>26021.53</td>\n",
       "      <td>2023-08-23 01:19:55</td>\n",
       "      <td>4.666771e+11</td>\n",
       "      <td>1.321158e+10</td>\n",
       "    </tr>\n",
       "    <tr>\n",
       "      <th>2</th>\n",
       "      <td>7294</td>\n",
       "      <td>23953.83</td>\n",
       "      <td>25998.62</td>\n",
       "      <td>2023-08-23 01:24:56</td>\n",
       "      <td>4.665311e+11</td>\n",
       "      <td>1.083450e+10</td>\n",
       "    </tr>\n",
       "    <tr>\n",
       "      <th>4</th>\n",
       "      <td>7296</td>\n",
       "      <td>23975.64</td>\n",
       "      <td>26022.43</td>\n",
       "      <td>2023-08-23 01:35:02</td>\n",
       "      <td>4.667246e+11</td>\n",
       "      <td>1.047794e+10</td>\n",
       "    </tr>\n",
       "    <tr>\n",
       "      <th>5</th>\n",
       "      <td>7297</td>\n",
       "      <td>23968.61</td>\n",
       "      <td>26011.31</td>\n",
       "      <td>2023-08-23 01:40:00</td>\n",
       "      <td>4.667246e+11</td>\n",
       "      <td>7.798841e+09</td>\n",
       "    </tr>\n",
       "    <tr>\n",
       "      <th>6</th>\n",
       "      <td>7298</td>\n",
       "      <td>24008.26</td>\n",
       "      <td>26052.56</td>\n",
       "      <td>2023-08-23 01:44:58</td>\n",
       "      <td>4.665688e+11</td>\n",
       "      <td>1.376598e+10</td>\n",
       "    </tr>\n",
       "    <tr>\n",
       "      <th>9</th>\n",
       "      <td>7301</td>\n",
       "      <td>23987.32</td>\n",
       "      <td>26041.25</td>\n",
       "      <td>2023-08-23 02:00:00</td>\n",
       "      <td>4.677180e+11</td>\n",
       "      <td>1.341287e+10</td>\n",
       "    </tr>\n",
       "    <tr>\n",
       "      <th>10</th>\n",
       "      <td>7302</td>\n",
       "      <td>24004.93</td>\n",
       "      <td>26056.15</td>\n",
       "      <td>2023-08-23 02:04:55</td>\n",
       "      <td>4.668559e+11</td>\n",
       "      <td>1.372518e+10</td>\n",
       "    </tr>\n",
       "    <tr>\n",
       "      <th>11</th>\n",
       "      <td>7303</td>\n",
       "      <td>24002.12</td>\n",
       "      <td>26055.53</td>\n",
       "      <td>2023-08-23 02:09:54</td>\n",
       "      <td>4.668559e+11</td>\n",
       "      <td>6.393497e+09</td>\n",
       "    </tr>\n",
       "    <tr>\n",
       "      <th>13</th>\n",
       "      <td>7305</td>\n",
       "      <td>23977.55</td>\n",
       "      <td>26028.82</td>\n",
       "      <td>2023-08-23 02:19:56</td>\n",
       "      <td>4.671402e+11</td>\n",
       "      <td>1.272023e+10</td>\n",
       "    </tr>\n",
       "    <tr>\n",
       "      <th>15</th>\n",
       "      <td>7307</td>\n",
       "      <td>23983.07</td>\n",
       "      <td>26032.65</td>\n",
       "      <td>2023-08-23 02:30:03</td>\n",
       "      <td>4.666880e+11</td>\n",
       "      <td>9.338594e+09</td>\n",
       "    </tr>\n",
       "    <tr>\n",
       "      <th>16</th>\n",
       "      <td>7308</td>\n",
       "      <td>23983.53</td>\n",
       "      <td>26030.52</td>\n",
       "      <td>2023-08-23 02:35:00</td>\n",
       "      <td>4.669033e+11</td>\n",
       "      <td>8.865623e+09</td>\n",
       "    </tr>\n",
       "    <tr>\n",
       "      <th>18</th>\n",
       "      <td>7310</td>\n",
       "      <td>23992.11</td>\n",
       "      <td>26041.81</td>\n",
       "      <td>2023-08-23 02:44:56</td>\n",
       "      <td>4.669458e+11</td>\n",
       "      <td>9.550236e+09</td>\n",
       "    </tr>\n",
       "    <tr>\n",
       "      <th>19</th>\n",
       "      <td>7311</td>\n",
       "      <td>23980.36</td>\n",
       "      <td>26034.28</td>\n",
       "      <td>2023-08-23 02:49:54</td>\n",
       "      <td>4.669458e+11</td>\n",
       "      <td>1.379545e+10</td>\n",
       "    </tr>\n",
       "    <tr>\n",
       "      <th>21</th>\n",
       "      <td>7313</td>\n",
       "      <td>23981.85</td>\n",
       "      <td>26029.91</td>\n",
       "      <td>2023-08-23 03:00:02</td>\n",
       "      <td>4.667686e+11</td>\n",
       "      <td>1.081206e+10</td>\n",
       "    </tr>\n",
       "    <tr>\n",
       "      <th>23</th>\n",
       "      <td>7315</td>\n",
       "      <td>23982.91</td>\n",
       "      <td>26033.83</td>\n",
       "      <td>2023-08-23 03:09:58</td>\n",
       "      <td>4.668110e+11</td>\n",
       "      <td>9.756778e+09</td>\n",
       "    </tr>\n",
       "    <tr>\n",
       "      <th>24</th>\n",
       "      <td>7316</td>\n",
       "      <td>23985.06</td>\n",
       "      <td>26036.95</td>\n",
       "      <td>2023-08-23 03:14:56</td>\n",
       "      <td>4.667035e+11</td>\n",
       "      <td>1.101850e+10</td>\n",
       "    </tr>\n",
       "    <tr>\n",
       "      <th>25</th>\n",
       "      <td>7317</td>\n",
       "      <td>23978.73</td>\n",
       "      <td>26022.82</td>\n",
       "      <td>2023-08-23 03:19:58</td>\n",
       "      <td>4.667035e+11</td>\n",
       "      <td>1.370916e+10</td>\n",
       "    </tr>\n",
       "    <tr>\n",
       "      <th>26</th>\n",
       "      <td>7318</td>\n",
       "      <td>23964.62</td>\n",
       "      <td>26010.17</td>\n",
       "      <td>2023-08-23 03:24:54</td>\n",
       "      <td>4.667386e+11</td>\n",
       "      <td>1.381483e+10</td>\n",
       "    </tr>\n",
       "    <tr>\n",
       "      <th>27</th>\n",
       "      <td>7319</td>\n",
       "      <td>23954.76</td>\n",
       "      <td>25998.59</td>\n",
       "      <td>2023-08-23 03:30:02</td>\n",
       "      <td>4.667386e+11</td>\n",
       "      <td>1.166482e+10</td>\n",
       "    </tr>\n",
       "    <tr>\n",
       "      <th>29</th>\n",
       "      <td>7321</td>\n",
       "      <td>23955.35</td>\n",
       "      <td>26007.13</td>\n",
       "      <td>2023-08-23 03:39:55</td>\n",
       "      <td>4.663179e+11</td>\n",
       "      <td>1.106671e+10</td>\n",
       "    </tr>\n",
       "    <tr>\n",
       "      <th>30</th>\n",
       "      <td>7322</td>\n",
       "      <td>23942.74</td>\n",
       "      <td>26001.57</td>\n",
       "      <td>2023-08-23 03:44:53</td>\n",
       "      <td>4.661997e+11</td>\n",
       "      <td>1.377739e+10</td>\n",
       "    </tr>\n",
       "    <tr>\n",
       "      <th>31</th>\n",
       "      <td>7323</td>\n",
       "      <td>23938.84</td>\n",
       "      <td>25992.54</td>\n",
       "      <td>2023-08-23 03:50:03</td>\n",
       "      <td>4.661997e+11</td>\n",
       "      <td>1.003894e+10</td>\n",
       "    </tr>\n",
       "    <tr>\n",
       "      <th>32</th>\n",
       "      <td>7324</td>\n",
       "      <td>23936.47</td>\n",
       "      <td>25990.61</td>\n",
       "      <td>2023-08-23 03:55:02</td>\n",
       "      <td>4.659783e+11</td>\n",
       "      <td>1.115889e+10</td>\n",
       "    </tr>\n",
       "    <tr>\n",
       "      <th>33</th>\n",
       "      <td>7325</td>\n",
       "      <td>23946.98</td>\n",
       "      <td>26000.33</td>\n",
       "      <td>2023-08-23 04:00:01</td>\n",
       "      <td>4.659783e+11</td>\n",
       "      <td>1.383363e+10</td>\n",
       "    </tr>\n",
       "    <tr>\n",
       "      <th>36</th>\n",
       "      <td>7328</td>\n",
       "      <td>23933.67</td>\n",
       "      <td>25986.18</td>\n",
       "      <td>2023-08-23 04:14:56</td>\n",
       "      <td>4.657328e+11</td>\n",
       "      <td>1.164597e+10</td>\n",
       "    </tr>\n",
       "    <tr>\n",
       "      <th>37</th>\n",
       "      <td>7329</td>\n",
       "      <td>23938.72</td>\n",
       "      <td>25991.31</td>\n",
       "      <td>2023-08-23 04:19:56</td>\n",
       "      <td>4.657328e+11</td>\n",
       "      <td>1.120820e+10</td>\n",
       "    </tr>\n",
       "    <tr>\n",
       "      <th>39</th>\n",
       "      <td>7331</td>\n",
       "      <td>23946.87</td>\n",
       "      <td>25995.52</td>\n",
       "      <td>2023-08-23 04:30:02</td>\n",
       "      <td>4.658717e+11</td>\n",
       "      <td>1.281384e+10</td>\n",
       "    </tr>\n",
       "    <tr>\n",
       "      <th>40</th>\n",
       "      <td>7332</td>\n",
       "      <td>23948.13</td>\n",
       "      <td>25996.90</td>\n",
       "      <td>2023-08-23 04:35:00</td>\n",
       "      <td>4.662026e+11</td>\n",
       "      <td>9.938527e+09</td>\n",
       "    </tr>\n",
       "    <tr>\n",
       "      <th>42</th>\n",
       "      <td>7334</td>\n",
       "      <td>23949.44</td>\n",
       "      <td>26001.34</td>\n",
       "      <td>2023-08-23 04:44:55</td>\n",
       "      <td>4.661463e+11</td>\n",
       "      <td>1.134112e+10</td>\n",
       "    </tr>\n",
       "    <tr>\n",
       "      <th>43</th>\n",
       "      <td>7335</td>\n",
       "      <td>23969.35</td>\n",
       "      <td>26025.95</td>\n",
       "      <td>2023-08-23 04:50:03</td>\n",
       "      <td>4.661463e+11</td>\n",
       "      <td>1.213014e+10</td>\n",
       "    </tr>\n",
       "    <tr>\n",
       "      <th>44</th>\n",
       "      <td>7336</td>\n",
       "      <td>23985.20</td>\n",
       "      <td>26043.73</td>\n",
       "      <td>2023-08-23 04:54:54</td>\n",
       "      <td>4.665721e+11</td>\n",
       "      <td>1.237239e+10</td>\n",
       "    </tr>\n",
       "    <tr>\n",
       "      <th>47</th>\n",
       "      <td>7339</td>\n",
       "      <td>23965.47</td>\n",
       "      <td>26027.30</td>\n",
       "      <td>2023-08-23 05:09:56</td>\n",
       "      <td>4.666776e+11</td>\n",
       "      <td>1.205508e+10</td>\n",
       "    </tr>\n",
       "    <tr>\n",
       "      <th>48</th>\n",
       "      <td>7340</td>\n",
       "      <td>23963.16</td>\n",
       "      <td>26027.59</td>\n",
       "      <td>2023-08-23 05:14:54</td>\n",
       "      <td>4.661893e+11</td>\n",
       "      <td>1.373473e+10</td>\n",
       "    </tr>\n",
       "    <tr>\n",
       "      <th>49</th>\n",
       "      <td>7341</td>\n",
       "      <td>23965.06</td>\n",
       "      <td>26030.64</td>\n",
       "      <td>2023-08-23 05:19:54</td>\n",
       "      <td>4.661893e+11</td>\n",
       "      <td>1.346738e+10</td>\n",
       "    </tr>\n",
       "    <tr>\n",
       "      <th>51</th>\n",
       "      <td>7343</td>\n",
       "      <td>23955.51</td>\n",
       "      <td>26019.28</td>\n",
       "      <td>2023-08-23 05:30:00</td>\n",
       "      <td>4.663194e+11</td>\n",
       "      <td>8.621539e+09</td>\n",
       "    </tr>\n",
       "    <tr>\n",
       "      <th>54</th>\n",
       "      <td>7346</td>\n",
       "      <td>23933.03</td>\n",
       "      <td>25990.38</td>\n",
       "      <td>2023-08-23 05:44:54</td>\n",
       "      <td>4.657101e+11</td>\n",
       "      <td>1.104479e+10</td>\n",
       "    </tr>\n",
       "    <tr>\n",
       "      <th>55</th>\n",
       "      <td>7347</td>\n",
       "      <td>23930.87</td>\n",
       "      <td>25991.58</td>\n",
       "      <td>2023-08-23 05:50:02</td>\n",
       "      <td>4.657101e+11</td>\n",
       "      <td>1.179701e+10</td>\n",
       "    </tr>\n",
       "    <tr>\n",
       "      <th>56</th>\n",
       "      <td>7348</td>\n",
       "      <td>23936.20</td>\n",
       "      <td>25992.27</td>\n",
       "      <td>2023-08-23 05:55:03</td>\n",
       "      <td>4.658300e+11</td>\n",
       "      <td>1.085979e+10</td>\n",
       "    </tr>\n",
       "    <tr>\n",
       "      <th>57</th>\n",
       "      <td>7349</td>\n",
       "      <td>23961.93</td>\n",
       "      <td>26029.37</td>\n",
       "      <td>2023-08-23 06:00:02</td>\n",
       "      <td>4.658300e+11</td>\n",
       "      <td>9.993571e+09</td>\n",
       "    </tr>\n",
       "    <tr>\n",
       "      <th>58</th>\n",
       "      <td>7350</td>\n",
       "      <td>23967.47</td>\n",
       "      <td>26033.48</td>\n",
       "      <td>2023-08-23 06:04:56</td>\n",
       "      <td>4.666925e+11</td>\n",
       "      <td>1.036577e+10</td>\n",
       "    </tr>\n",
       "    <tr>\n",
       "      <th>59</th>\n",
       "      <td>7351</td>\n",
       "      <td>23961.42</td>\n",
       "      <td>26028.11</td>\n",
       "      <td>2023-08-23 06:09:53</td>\n",
       "      <td>4.666925e+11</td>\n",
       "      <td>4.799281e+09</td>\n",
       "    </tr>\n",
       "    <tr>\n",
       "      <th>61</th>\n",
       "      <td>7353</td>\n",
       "      <td>23993.01</td>\n",
       "      <td>26046.89</td>\n",
       "      <td>2023-08-23 06:20:00</td>\n",
       "      <td>4.667975e+11</td>\n",
       "      <td>1.355627e+10</td>\n",
       "    </tr>\n",
       "    <tr>\n",
       "      <th>64</th>\n",
       "      <td>7356</td>\n",
       "      <td>23990.88</td>\n",
       "      <td>26041.85</td>\n",
       "      <td>2023-08-23 06:34:57</td>\n",
       "      <td>4.671597e+11</td>\n",
       "      <td>1.068130e+10</td>\n",
       "    </tr>\n",
       "    <tr>\n",
       "      <th>65</th>\n",
       "      <td>7357</td>\n",
       "      <td>24018.74</td>\n",
       "      <td>26068.74</td>\n",
       "      <td>2023-08-23 06:39:55</td>\n",
       "      <td>4.671597e+11</td>\n",
       "      <td>1.398379e+10</td>\n",
       "    </tr>\n",
       "    <tr>\n",
       "      <th>66</th>\n",
       "      <td>7358</td>\n",
       "      <td>24009.81</td>\n",
       "      <td>26060.66</td>\n",
       "      <td>2023-08-23 06:44:54</td>\n",
       "      <td>4.674145e+11</td>\n",
       "      <td>1.348461e+10</td>\n",
       "    </tr>\n",
       "    <tr>\n",
       "      <th>67</th>\n",
       "      <td>7359</td>\n",
       "      <td>24059.00</td>\n",
       "      <td>26125.67</td>\n",
       "      <td>2023-08-23 06:49:54</td>\n",
       "      <td>4.674145e+11</td>\n",
       "      <td>1.214878e+10</td>\n",
       "    </tr>\n",
       "    <tr>\n",
       "      <th>68</th>\n",
       "      <td>7360</td>\n",
       "      <td>24057.55</td>\n",
       "      <td>26125.26</td>\n",
       "      <td>2023-08-23 06:54:54</td>\n",
       "      <td>4.693854e+11</td>\n",
       "      <td>1.165557e+10</td>\n",
       "    </tr>\n",
       "    <tr>\n",
       "      <th>69</th>\n",
       "      <td>7361</td>\n",
       "      <td>24010.94</td>\n",
       "      <td>26078.66</td>\n",
       "      <td>2023-08-23 07:00:00</td>\n",
       "      <td>4.693854e+11</td>\n",
       "      <td>1.208026e+10</td>\n",
       "    </tr>\n",
       "    <tr>\n",
       "      <th>70</th>\n",
       "      <td>7362</td>\n",
       "      <td>23974.58</td>\n",
       "      <td>26038.89</td>\n",
       "      <td>2023-08-23 07:04:59</td>\n",
       "      <td>4.671675e+11</td>\n",
       "      <td>1.261460e+10</td>\n",
       "    </tr>\n",
       "    <tr>\n",
       "      <th>71</th>\n",
       "      <td>7363</td>\n",
       "      <td>23991.80</td>\n",
       "      <td>26054.06</td>\n",
       "      <td>2023-08-23 07:09:59</td>\n",
       "      <td>4.670127e+11</td>\n",
       "      <td>1.267176e+10</td>\n",
       "    </tr>\n",
       "    <tr>\n",
       "      <th>73</th>\n",
       "      <td>7365</td>\n",
       "      <td>24043.65</td>\n",
       "      <td>26111.92</td>\n",
       "      <td>2023-08-23 07:20:01</td>\n",
       "      <td>4.680436e+11</td>\n",
       "      <td>1.244335e+10</td>\n",
       "    </tr>\n",
       "    <tr>\n",
       "      <th>75</th>\n",
       "      <td>7367</td>\n",
       "      <td>24006.47</td>\n",
       "      <td>26092.11</td>\n",
       "      <td>2023-08-23 07:29:59</td>\n",
       "      <td>4.680436e+11</td>\n",
       "      <td>1.162934e+10</td>\n",
       "    </tr>\n",
       "    <tr>\n",
       "      <th>76</th>\n",
       "      <td>7368</td>\n",
       "      <td>23979.30</td>\n",
       "      <td>26054.91</td>\n",
       "      <td>2023-08-23 07:34:57</td>\n",
       "      <td>4.674576e+11</td>\n",
       "      <td>1.452350e+10</td>\n",
       "    </tr>\n",
       "    <tr>\n",
       "      <th>77</th>\n",
       "      <td>7369</td>\n",
       "      <td>24073.46</td>\n",
       "      <td>26045.52</td>\n",
       "      <td>2023-08-23 07:39:58</td>\n",
       "      <td>4.674576e+11</td>\n",
       "      <td>9.402202e+09</td>\n",
       "    </tr>\n",
       "    <tr>\n",
       "      <th>78</th>\n",
       "      <td>7370</td>\n",
       "      <td>24058.96</td>\n",
       "      <td>26022.46</td>\n",
       "      <td>2023-08-23 07:44:55</td>\n",
       "      <td>4.685672e+11</td>\n",
       "      <td>1.259141e+10</td>\n",
       "    </tr>\n",
       "    <tr>\n",
       "      <th>80</th>\n",
       "      <td>7372</td>\n",
       "      <td>24056.47</td>\n",
       "      <td>26041.49</td>\n",
       "      <td>2023-08-23 07:54:40</td>\n",
       "      <td>4.685842e+11</td>\n",
       "      <td>1.081903e+10</td>\n",
       "    </tr>\n",
       "  </tbody>\n",
       "</table>\n",
       "</div>"
      ],
      "text/plain": [
       "      id       eur       usd          last_update  eur_market_cap   \n",
       "0   7292  23979.29  26015.63  2023-08-23 01:14:56    4.666771e+11  \\\n",
       "1   7293  23982.77  26021.53  2023-08-23 01:19:55    4.666771e+11   \n",
       "2   7294  23953.83  25998.62  2023-08-23 01:24:56    4.665311e+11   \n",
       "4   7296  23975.64  26022.43  2023-08-23 01:35:02    4.667246e+11   \n",
       "5   7297  23968.61  26011.31  2023-08-23 01:40:00    4.667246e+11   \n",
       "6   7298  24008.26  26052.56  2023-08-23 01:44:58    4.665688e+11   \n",
       "9   7301  23987.32  26041.25  2023-08-23 02:00:00    4.677180e+11   \n",
       "10  7302  24004.93  26056.15  2023-08-23 02:04:55    4.668559e+11   \n",
       "11  7303  24002.12  26055.53  2023-08-23 02:09:54    4.668559e+11   \n",
       "13  7305  23977.55  26028.82  2023-08-23 02:19:56    4.671402e+11   \n",
       "15  7307  23983.07  26032.65  2023-08-23 02:30:03    4.666880e+11   \n",
       "16  7308  23983.53  26030.52  2023-08-23 02:35:00    4.669033e+11   \n",
       "18  7310  23992.11  26041.81  2023-08-23 02:44:56    4.669458e+11   \n",
       "19  7311  23980.36  26034.28  2023-08-23 02:49:54    4.669458e+11   \n",
       "21  7313  23981.85  26029.91  2023-08-23 03:00:02    4.667686e+11   \n",
       "23  7315  23982.91  26033.83  2023-08-23 03:09:58    4.668110e+11   \n",
       "24  7316  23985.06  26036.95  2023-08-23 03:14:56    4.667035e+11   \n",
       "25  7317  23978.73  26022.82  2023-08-23 03:19:58    4.667035e+11   \n",
       "26  7318  23964.62  26010.17  2023-08-23 03:24:54    4.667386e+11   \n",
       "27  7319  23954.76  25998.59  2023-08-23 03:30:02    4.667386e+11   \n",
       "29  7321  23955.35  26007.13  2023-08-23 03:39:55    4.663179e+11   \n",
       "30  7322  23942.74  26001.57  2023-08-23 03:44:53    4.661997e+11   \n",
       "31  7323  23938.84  25992.54  2023-08-23 03:50:03    4.661997e+11   \n",
       "32  7324  23936.47  25990.61  2023-08-23 03:55:02    4.659783e+11   \n",
       "33  7325  23946.98  26000.33  2023-08-23 04:00:01    4.659783e+11   \n",
       "36  7328  23933.67  25986.18  2023-08-23 04:14:56    4.657328e+11   \n",
       "37  7329  23938.72  25991.31  2023-08-23 04:19:56    4.657328e+11   \n",
       "39  7331  23946.87  25995.52  2023-08-23 04:30:02    4.658717e+11   \n",
       "40  7332  23948.13  25996.90  2023-08-23 04:35:00    4.662026e+11   \n",
       "42  7334  23949.44  26001.34  2023-08-23 04:44:55    4.661463e+11   \n",
       "43  7335  23969.35  26025.95  2023-08-23 04:50:03    4.661463e+11   \n",
       "44  7336  23985.20  26043.73  2023-08-23 04:54:54    4.665721e+11   \n",
       "47  7339  23965.47  26027.30  2023-08-23 05:09:56    4.666776e+11   \n",
       "48  7340  23963.16  26027.59  2023-08-23 05:14:54    4.661893e+11   \n",
       "49  7341  23965.06  26030.64  2023-08-23 05:19:54    4.661893e+11   \n",
       "51  7343  23955.51  26019.28  2023-08-23 05:30:00    4.663194e+11   \n",
       "54  7346  23933.03  25990.38  2023-08-23 05:44:54    4.657101e+11   \n",
       "55  7347  23930.87  25991.58  2023-08-23 05:50:02    4.657101e+11   \n",
       "56  7348  23936.20  25992.27  2023-08-23 05:55:03    4.658300e+11   \n",
       "57  7349  23961.93  26029.37  2023-08-23 06:00:02    4.658300e+11   \n",
       "58  7350  23967.47  26033.48  2023-08-23 06:04:56    4.666925e+11   \n",
       "59  7351  23961.42  26028.11  2023-08-23 06:09:53    4.666925e+11   \n",
       "61  7353  23993.01  26046.89  2023-08-23 06:20:00    4.667975e+11   \n",
       "64  7356  23990.88  26041.85  2023-08-23 06:34:57    4.671597e+11   \n",
       "65  7357  24018.74  26068.74  2023-08-23 06:39:55    4.671597e+11   \n",
       "66  7358  24009.81  26060.66  2023-08-23 06:44:54    4.674145e+11   \n",
       "67  7359  24059.00  26125.67  2023-08-23 06:49:54    4.674145e+11   \n",
       "68  7360  24057.55  26125.26  2023-08-23 06:54:54    4.693854e+11   \n",
       "69  7361  24010.94  26078.66  2023-08-23 07:00:00    4.693854e+11   \n",
       "70  7362  23974.58  26038.89  2023-08-23 07:04:59    4.671675e+11   \n",
       "71  7363  23991.80  26054.06  2023-08-23 07:09:59    4.670127e+11   \n",
       "73  7365  24043.65  26111.92  2023-08-23 07:20:01    4.680436e+11   \n",
       "75  7367  24006.47  26092.11  2023-08-23 07:29:59    4.680436e+11   \n",
       "76  7368  23979.30  26054.91  2023-08-23 07:34:57    4.674576e+11   \n",
       "77  7369  24073.46  26045.52  2023-08-23 07:39:58    4.674576e+11   \n",
       "78  7370  24058.96  26022.46  2023-08-23 07:44:55    4.685672e+11   \n",
       "80  7372  24056.47  26041.49  2023-08-23 07:54:40    4.685842e+11   \n",
       "\n",
       "     eur_24h_vol  \n",
       "0   9.329058e+09  \n",
       "1   1.321158e+10  \n",
       "2   1.083450e+10  \n",
       "4   1.047794e+10  \n",
       "5   7.798841e+09  \n",
       "6   1.376598e+10  \n",
       "9   1.341287e+10  \n",
       "10  1.372518e+10  \n",
       "11  6.393497e+09  \n",
       "13  1.272023e+10  \n",
       "15  9.338594e+09  \n",
       "16  8.865623e+09  \n",
       "18  9.550236e+09  \n",
       "19  1.379545e+10  \n",
       "21  1.081206e+10  \n",
       "23  9.756778e+09  \n",
       "24  1.101850e+10  \n",
       "25  1.370916e+10  \n",
       "26  1.381483e+10  \n",
       "27  1.166482e+10  \n",
       "29  1.106671e+10  \n",
       "30  1.377739e+10  \n",
       "31  1.003894e+10  \n",
       "32  1.115889e+10  \n",
       "33  1.383363e+10  \n",
       "36  1.164597e+10  \n",
       "37  1.120820e+10  \n",
       "39  1.281384e+10  \n",
       "40  9.938527e+09  \n",
       "42  1.134112e+10  \n",
       "43  1.213014e+10  \n",
       "44  1.237239e+10  \n",
       "47  1.205508e+10  \n",
       "48  1.373473e+10  \n",
       "49  1.346738e+10  \n",
       "51  8.621539e+09  \n",
       "54  1.104479e+10  \n",
       "55  1.179701e+10  \n",
       "56  1.085979e+10  \n",
       "57  9.993571e+09  \n",
       "58  1.036577e+10  \n",
       "59  4.799281e+09  \n",
       "61  1.355627e+10  \n",
       "64  1.068130e+10  \n",
       "65  1.398379e+10  \n",
       "66  1.348461e+10  \n",
       "67  1.214878e+10  \n",
       "68  1.165557e+10  \n",
       "69  1.208026e+10  \n",
       "70  1.261460e+10  \n",
       "71  1.267176e+10  \n",
       "73  1.244335e+10  \n",
       "75  1.162934e+10  \n",
       "76  1.452350e+10  \n",
       "77  9.402202e+09  \n",
       "78  1.259141e+10  \n",
       "80  1.081903e+10  "
      ]
     },
     "execution_count": 46,
     "metadata": {},
     "output_type": "execute_result"
    }
   ],
   "source": [
    "# SUPPRESSION DE DOUBLON => df_btc => df_btc_no_duplicated\n",
    "df_btc_no_duplicated = df_btc.drop_duplicates(subset='last_update')\n",
    "df_btc_no_duplicated"
   ]
  },
  {
   "cell_type": "code",
   "execution_count": 47,
   "id": "76be99ed",
   "metadata": {},
   "outputs": [
    {
     "data": {
      "text/plain": [
       "0"
      ]
     },
     "execution_count": 47,
     "metadata": {},
     "output_type": "execute_result"
    }
   ],
   "source": [
    "# NBRE DE DOUBLONS => df_btc_no_duplicated\n",
    "df_btc_no_duplicated.duplicated(subset='last_update').sum()"
   ]
  },
  {
   "cell_type": "code",
   "execution_count": 50,
   "id": "25d2667d",
   "metadata": {},
   "outputs": [
    {
     "data": {
      "text/plain": [
       "False    57\n",
       "Name: count, dtype: int64"
      ]
     },
     "execution_count": 50,
     "metadata": {},
     "output_type": "execute_result"
    }
   ],
   "source": [
    "# BOOLEEN TRUE = DOUBLON => df_btc_no_duplicated\n",
    "df_btc_no_duplicated.duplicated(subset='last_update').value_counts()"
   ]
  },
  {
   "cell_type": "code",
   "execution_count": null,
   "id": "ba39d703",
   "metadata": {},
   "outputs": [],
   "source": [
    "# SUPPRESSION COLONNE \n",
    "#df_btc_0 = df_btc.drop(['last_update'],axis=1)\n",
    "#df_btc_0"
   ]
  },
  {
   "cell_type": "code",
   "execution_count": null,
   "id": "b3fc8e8f",
   "metadata": {},
   "outputs": [],
   "source": [
    "## TRANSFORMATION DATAFRAME\n",
    "#df_btc_1 = pd.to_datetime(df_btc['last_update'], format='ISO8601')\n",
    "#df_btc_1"
   ]
  },
  {
   "cell_type": "code",
   "execution_count": null,
   "id": "6aa0d93d",
   "metadata": {},
   "outputs": [],
   "source": [
    "## TRANSFORMATION DATAFRAME\n",
    "# Convert datetype to string\n",
    "\n",
    "#df_btc_1 = df_btc['last_update'].astype(str)"
   ]
  },
  {
   "cell_type": "code",
   "execution_count": null,
   "id": "f8039a6f",
   "metadata": {},
   "outputs": [],
   "source": [
    "## TRANSFORMATION DATAFRAME\n",
    "# concatenation dataframe\n",
    "#df_btc_01 = pd.concat([df_btc_0, df_btc_1],axis=1)\n",
    "#df_btc_01"
   ]
  },
  {
   "cell_type": "code",
   "execution_count": null,
   "id": "0fa41b4f",
   "metadata": {},
   "outputs": [],
   "source": [
    "## VISUALISATION\n",
    "\n",
    "import numpy as np\n",
    "import matplotlib.pyplot as plt\n",
    "import matplotlib.cm as cm\n",
    "import plotly.graph_objects as go\n",
    "import plotly.express as px\n",
    "\n",
    "#%matplotlib inline\n",
    "\n",
    "#plt.figure(figsize=(15,6))\n",
    "\n",
    "#x = df_btc[\"last_update\"]\n",
    "#y = df_btc[\"eur\"]  \n",
    "      \n",
    "#plt.plot(x, \n",
    " #        y,\n",
    " #        linewidth = 4)\n",
    "\n",
    "#plt.title('Evolution du prix du Bitcoin en €')\n",
    "#plt.xlabel('Date')\n",
    "#plt.xticks(rotation = 45)\n",
    "#plt.ylabel('Prix du Bitcoin (en euros et en dollar')\n",
    "\n"
   ]
  },
  {
   "cell_type": "code",
   "execution_count": null,
   "id": "9e25a43c",
   "metadata": {},
   "outputs": [],
   "source": [
    "## VISUALISATION\n",
    "\n",
    "#import numpy as np\n",
    "#import matplotlib.pyplot as plt\n",
    "#import matplotlib.cm as cm\n",
    "#import plotly.graph_objects as go\n",
    "#import plotly.express as px\n",
    "#from plotly.subplots import make_subplots\n",
    "\n",
    "#x = df_btc[\"last_update\"]\n",
    "#y = df_btc[\"eur\"]  \n",
    "\n",
    "#y1 = df_btc[\"usd\"]\n",
    "\n",
    "#fig1 = px.line(df_btc, x=x, y=y1)\n",
    "#fig1.update_layout(legend_title_text = \"Evolution du prix du Bitcoin en $\")\n",
    "#fig1.update_xaxes(title_text=\"Last Update\")\n",
    "#fig1.update_yaxes(title_text=\"btc dollar\")\n",
    "\n",
    "#fig.show()\n",
    "#fig1.show()"
   ]
  },
  {
   "cell_type": "code",
   "execution_count": 48,
   "id": "2a859206",
   "metadata": {},
   "outputs": [
    {
     "data": {
      "application/vnd.plotly.v1+json": {
       "config": {
        "plotlyServerURL": "https://plot.ly"
       },
       "data": [
        {
         "mode": "markers+lines",
         "name": "cours BTC euro",
         "type": "scatter",
         "x": [
          "2023-08-23 01:14:56",
          "2023-08-23 01:19:55",
          "2023-08-23 01:24:56",
          "2023-08-23 01:35:02",
          "2023-08-23 01:40:00",
          "2023-08-23 01:44:58",
          "2023-08-23 02:00:00",
          "2023-08-23 02:04:55",
          "2023-08-23 02:09:54",
          "2023-08-23 02:19:56",
          "2023-08-23 02:30:03",
          "2023-08-23 02:35:00",
          "2023-08-23 02:44:56",
          "2023-08-23 02:49:54",
          "2023-08-23 03:00:02",
          "2023-08-23 03:09:58",
          "2023-08-23 03:14:56",
          "2023-08-23 03:19:58",
          "2023-08-23 03:24:54",
          "2023-08-23 03:30:02",
          "2023-08-23 03:39:55",
          "2023-08-23 03:44:53",
          "2023-08-23 03:50:03",
          "2023-08-23 03:55:02",
          "2023-08-23 04:00:01",
          "2023-08-23 04:14:56",
          "2023-08-23 04:19:56",
          "2023-08-23 04:30:02",
          "2023-08-23 04:35:00",
          "2023-08-23 04:44:55",
          "2023-08-23 04:50:03",
          "2023-08-23 04:54:54",
          "2023-08-23 05:09:56",
          "2023-08-23 05:14:54",
          "2023-08-23 05:19:54",
          "2023-08-23 05:30:00",
          "2023-08-23 05:44:54",
          "2023-08-23 05:50:02",
          "2023-08-23 05:55:03",
          "2023-08-23 06:00:02",
          "2023-08-23 06:04:56",
          "2023-08-23 06:09:53",
          "2023-08-23 06:20:00",
          "2023-08-23 06:34:57",
          "2023-08-23 06:39:55",
          "2023-08-23 06:44:54",
          "2023-08-23 06:49:54",
          "2023-08-23 06:54:54",
          "2023-08-23 07:00:00",
          "2023-08-23 07:04:59",
          "2023-08-23 07:09:59",
          "2023-08-23 07:20:01",
          "2023-08-23 07:29:59",
          "2023-08-23 07:34:57",
          "2023-08-23 07:39:58",
          "2023-08-23 07:44:55",
          "2023-08-23 07:54:40"
         ],
         "xaxis": "x",
         "y": [
          23979.29,
          23982.77,
          23953.83,
          23975.64,
          23968.61,
          24008.26,
          23987.32,
          24004.93,
          24002.12,
          23977.55,
          23983.07,
          23983.53,
          23992.11,
          23980.36,
          23981.85,
          23982.91,
          23985.06,
          23978.73,
          23964.62,
          23954.76,
          23955.35,
          23942.74,
          23938.84,
          23936.47,
          23946.98,
          23933.67,
          23938.72,
          23946.87,
          23948.13,
          23949.44,
          23969.35,
          23985.2,
          23965.47,
          23963.16,
          23965.06,
          23955.51,
          23933.03,
          23930.87,
          23936.2,
          23961.93,
          23967.47,
          23961.42,
          23993.01,
          23990.88,
          24018.74,
          24009.81,
          24059,
          24057.55,
          24010.94,
          23974.58,
          23991.8,
          24043.65,
          24006.47,
          23979.3,
          24073.46,
          24058.96,
          24056.47
         ],
         "yaxis": "y"
        },
        {
         "mode": "markers+lines",
         "name": "cours BTC dollar",
         "type": "scatter",
         "x": [
          "2023-08-23 01:14:56",
          "2023-08-23 01:19:55",
          "2023-08-23 01:24:56",
          "2023-08-23 01:35:02",
          "2023-08-23 01:40:00",
          "2023-08-23 01:44:58",
          "2023-08-23 02:00:00",
          "2023-08-23 02:04:55",
          "2023-08-23 02:09:54",
          "2023-08-23 02:19:56",
          "2023-08-23 02:30:03",
          "2023-08-23 02:35:00",
          "2023-08-23 02:44:56",
          "2023-08-23 02:49:54",
          "2023-08-23 03:00:02",
          "2023-08-23 03:09:58",
          "2023-08-23 03:14:56",
          "2023-08-23 03:19:58",
          "2023-08-23 03:24:54",
          "2023-08-23 03:30:02",
          "2023-08-23 03:39:55",
          "2023-08-23 03:44:53",
          "2023-08-23 03:50:03",
          "2023-08-23 03:55:02",
          "2023-08-23 04:00:01",
          "2023-08-23 04:14:56",
          "2023-08-23 04:19:56",
          "2023-08-23 04:30:02",
          "2023-08-23 04:35:00",
          "2023-08-23 04:44:55",
          "2023-08-23 04:50:03",
          "2023-08-23 04:54:54",
          "2023-08-23 05:09:56",
          "2023-08-23 05:14:54",
          "2023-08-23 05:19:54",
          "2023-08-23 05:30:00",
          "2023-08-23 05:44:54",
          "2023-08-23 05:50:02",
          "2023-08-23 05:55:03",
          "2023-08-23 06:00:02",
          "2023-08-23 06:04:56",
          "2023-08-23 06:09:53",
          "2023-08-23 06:20:00",
          "2023-08-23 06:34:57",
          "2023-08-23 06:39:55",
          "2023-08-23 06:44:54",
          "2023-08-23 06:49:54",
          "2023-08-23 06:54:54",
          "2023-08-23 07:00:00",
          "2023-08-23 07:04:59",
          "2023-08-23 07:09:59",
          "2023-08-23 07:20:01",
          "2023-08-23 07:29:59",
          "2023-08-23 07:34:57",
          "2023-08-23 07:39:58",
          "2023-08-23 07:44:55",
          "2023-08-23 07:54:40"
         ],
         "xaxis": "x2",
         "y": [
          26015.63,
          26021.53,
          25998.62,
          26022.43,
          26011.31,
          26052.56,
          26041.25,
          26056.15,
          26055.53,
          26028.82,
          26032.65,
          26030.52,
          26041.81,
          26034.28,
          26029.91,
          26033.83,
          26036.95,
          26022.82,
          26010.17,
          25998.59,
          26007.13,
          26001.57,
          25992.54,
          25990.61,
          26000.33,
          25986.18,
          25991.31,
          25995.52,
          25996.9,
          26001.34,
          26025.95,
          26043.73,
          26027.3,
          26027.59,
          26030.64,
          26019.28,
          25990.38,
          25991.58,
          25992.27,
          26029.37,
          26033.48,
          26028.11,
          26046.89,
          26041.85,
          26068.74,
          26060.66,
          26125.67,
          26125.26,
          26078.66,
          26038.89,
          26054.06,
          26111.92,
          26092.11,
          26054.91,
          26045.52,
          26022.46,
          26041.49
         ],
         "yaxis": "y2"
        },
        {
         "mode": "markers+lines",
         "name": "capitalisation boursière",
         "type": "scatter",
         "x": [
          "2023-08-23 01:14:56",
          "2023-08-23 01:19:55",
          "2023-08-23 01:24:56",
          "2023-08-23 01:35:02",
          "2023-08-23 01:40:00",
          "2023-08-23 01:44:58",
          "2023-08-23 02:00:00",
          "2023-08-23 02:04:55",
          "2023-08-23 02:09:54",
          "2023-08-23 02:19:56",
          "2023-08-23 02:30:03",
          "2023-08-23 02:35:00",
          "2023-08-23 02:44:56",
          "2023-08-23 02:49:54",
          "2023-08-23 03:00:02",
          "2023-08-23 03:09:58",
          "2023-08-23 03:14:56",
          "2023-08-23 03:19:58",
          "2023-08-23 03:24:54",
          "2023-08-23 03:30:02",
          "2023-08-23 03:39:55",
          "2023-08-23 03:44:53",
          "2023-08-23 03:50:03",
          "2023-08-23 03:55:02",
          "2023-08-23 04:00:01",
          "2023-08-23 04:14:56",
          "2023-08-23 04:19:56",
          "2023-08-23 04:30:02",
          "2023-08-23 04:35:00",
          "2023-08-23 04:44:55",
          "2023-08-23 04:50:03",
          "2023-08-23 04:54:54",
          "2023-08-23 05:09:56",
          "2023-08-23 05:14:54",
          "2023-08-23 05:19:54",
          "2023-08-23 05:30:00",
          "2023-08-23 05:44:54",
          "2023-08-23 05:50:02",
          "2023-08-23 05:55:03",
          "2023-08-23 06:00:02",
          "2023-08-23 06:04:56",
          "2023-08-23 06:09:53",
          "2023-08-23 06:20:00",
          "2023-08-23 06:34:57",
          "2023-08-23 06:39:55",
          "2023-08-23 06:44:54",
          "2023-08-23 06:49:54",
          "2023-08-23 06:54:54",
          "2023-08-23 07:00:00",
          "2023-08-23 07:04:59",
          "2023-08-23 07:09:59",
          "2023-08-23 07:20:01",
          "2023-08-23 07:29:59",
          "2023-08-23 07:34:57",
          "2023-08-23 07:39:58",
          "2023-08-23 07:44:55",
          "2023-08-23 07:54:40"
         ],
         "xaxis": "x3",
         "y": [
          466677140072.07733,
          466677140072.07733,
          466531136455.17487,
          466724588066.3258,
          466724588066.3258,
          466568843803.7952,
          467718018237.6789,
          466855887429.41394,
          466855887429.41394,
          467140180255.8261,
          466688013407.804,
          466903262547.27026,
          466945807715.9083,
          466945807715.9083,
          466768589703.4881,
          466811011879.7874,
          466703545061.5472,
          466703545061.5472,
          466738596735.28375,
          466738596735.28375,
          466317940561.13074,
          466199666802.5266,
          466199666802.5266,
          465978304386.7643,
          465978304386.7643,
          465732767377.00885,
          465732767377.00885,
          465871665838.9892,
          466202560875.3105,
          466146264961.17773,
          466146264961.17773,
          466572135489.52783,
          466677568214.6411,
          466189315660.9341,
          466189315660.9341,
          466319350237.2551,
          465710116410.6912,
          465710116410.6912,
          465830009895.96094,
          465830009895.96094,
          466692488208.5455,
          466692488208.5455,
          466797453050.8032,
          467159720453.9163,
          467159720453.9163,
          467414469975.2877,
          467414469975.2877,
          469385370906.3789,
          469385370906.3789,
          467167548921.51904,
          467012742371.55927,
          468043608492.7157,
          468043608492.7157,
          467457565345.3198,
          467457565345.3198,
          468567190389.1913,
          468584204711.038
         ],
         "yaxis": "y3"
        },
        {
         "mode": "markers+lines",
         "name": "Volume de négociation sur 24 h",
         "type": "scatter",
         "x": [
          "2023-08-23 01:14:56",
          "2023-08-23 01:19:55",
          "2023-08-23 01:24:56",
          "2023-08-23 01:35:02",
          "2023-08-23 01:40:00",
          "2023-08-23 01:44:58",
          "2023-08-23 02:00:00",
          "2023-08-23 02:04:55",
          "2023-08-23 02:09:54",
          "2023-08-23 02:19:56",
          "2023-08-23 02:30:03",
          "2023-08-23 02:35:00",
          "2023-08-23 02:44:56",
          "2023-08-23 02:49:54",
          "2023-08-23 03:00:02",
          "2023-08-23 03:09:58",
          "2023-08-23 03:14:56",
          "2023-08-23 03:19:58",
          "2023-08-23 03:24:54",
          "2023-08-23 03:30:02",
          "2023-08-23 03:39:55",
          "2023-08-23 03:44:53",
          "2023-08-23 03:50:03",
          "2023-08-23 03:55:02",
          "2023-08-23 04:00:01",
          "2023-08-23 04:14:56",
          "2023-08-23 04:19:56",
          "2023-08-23 04:30:02",
          "2023-08-23 04:35:00",
          "2023-08-23 04:44:55",
          "2023-08-23 04:50:03",
          "2023-08-23 04:54:54",
          "2023-08-23 05:09:56",
          "2023-08-23 05:14:54",
          "2023-08-23 05:19:54",
          "2023-08-23 05:30:00",
          "2023-08-23 05:44:54",
          "2023-08-23 05:50:02",
          "2023-08-23 05:55:03",
          "2023-08-23 06:00:02",
          "2023-08-23 06:04:56",
          "2023-08-23 06:09:53",
          "2023-08-23 06:20:00",
          "2023-08-23 06:34:57",
          "2023-08-23 06:39:55",
          "2023-08-23 06:44:54",
          "2023-08-23 06:49:54",
          "2023-08-23 06:54:54",
          "2023-08-23 07:00:00",
          "2023-08-23 07:04:59",
          "2023-08-23 07:09:59",
          "2023-08-23 07:20:01",
          "2023-08-23 07:29:59",
          "2023-08-23 07:34:57",
          "2023-08-23 07:39:58",
          "2023-08-23 07:44:55",
          "2023-08-23 07:54:40"
         ],
         "xaxis": "x4",
         "y": [
          9329058234.743841,
          13211577213.096449,
          10834502033.09501,
          10477942371.268433,
          7798840650.504423,
          13765976998.69256,
          13412865146.221586,
          13725181100.795301,
          6393497172.143795,
          12720230551.518097,
          9338594380.392004,
          8865622967.19846,
          9550236466.761404,
          13795453586.520765,
          10812062151.180052,
          9756777510.134886,
          11018496217.537136,
          13709155816.707302,
          13814831191.951792,
          11664816969.268173,
          11066709958.695324,
          13777387135.60233,
          10038941976.421118,
          11158889162.042854,
          13833629181.068134,
          11645973233.28346,
          11208196365.562042,
          12813841877.75738,
          9938526968.244457,
          11341124697.256054,
          12130135131.813265,
          12372394170.469002,
          12055082122.060066,
          13734725087.19353,
          13467380951.007584,
          8621538862.221476,
          11044789439.504457,
          11797011970.45843,
          10859785911.981234,
          9993570966.40679,
          10365769815.675976,
          4799280505.713341,
          13556268897.561453,
          10681304354.664867,
          13983793984.909546,
          13484609232.35463,
          12148779991.862566,
          11655565265.860546,
          12080262923.679935,
          12614597141.728134,
          12671758112.280361,
          12443347936.868374,
          11629339763.138735,
          14523503757.867891,
          9402201730.167261,
          12591413425.038702,
          10819031647.510817
         ],
         "yaxis": "y4"
        }
       ],
       "layout": {
        "annotations": [
         {
          "font": {
           "size": 16
          },
          "showarrow": false,
          "text": "BTC euro last 24h",
          "x": 0.5,
          "xanchor": "center",
          "xref": "paper",
          "y": 1,
          "yanchor": "bottom",
          "yref": "paper"
         },
         {
          "font": {
           "size": 16
          },
          "showarrow": false,
          "text": "BTC dollar last 24h",
          "x": 0.5,
          "xanchor": "center",
          "xref": "paper",
          "y": 0.71875,
          "yanchor": "bottom",
          "yref": "paper"
         },
         {
          "font": {
           "size": 16
          },
          "showarrow": false,
          "text": "Capitalisation boursière last 24h",
          "x": 0.5,
          "xanchor": "center",
          "xref": "paper",
          "y": 0.4375,
          "yanchor": "bottom",
          "yref": "paper"
         },
         {
          "font": {
           "size": 16
          },
          "showarrow": false,
          "text": "volume d'échange eur 24h",
          "x": 0.5,
          "xanchor": "center",
          "xref": "paper",
          "y": 0.15625,
          "yanchor": "bottom",
          "yref": "paper"
         }
        ],
        "height": 1200,
        "hovermode": "x unified",
        "template": {
         "data": {
          "bar": [
           {
            "error_x": {
             "color": "#2a3f5f"
            },
            "error_y": {
             "color": "#2a3f5f"
            },
            "marker": {
             "line": {
              "color": "#E5ECF6",
              "width": 0.5
             },
             "pattern": {
              "fillmode": "overlay",
              "size": 10,
              "solidity": 0.2
             }
            },
            "type": "bar"
           }
          ],
          "barpolar": [
           {
            "marker": {
             "line": {
              "color": "#E5ECF6",
              "width": 0.5
             },
             "pattern": {
              "fillmode": "overlay",
              "size": 10,
              "solidity": 0.2
             }
            },
            "type": "barpolar"
           }
          ],
          "carpet": [
           {
            "aaxis": {
             "endlinecolor": "#2a3f5f",
             "gridcolor": "white",
             "linecolor": "white",
             "minorgridcolor": "white",
             "startlinecolor": "#2a3f5f"
            },
            "baxis": {
             "endlinecolor": "#2a3f5f",
             "gridcolor": "white",
             "linecolor": "white",
             "minorgridcolor": "white",
             "startlinecolor": "#2a3f5f"
            },
            "type": "carpet"
           }
          ],
          "choropleth": [
           {
            "colorbar": {
             "outlinewidth": 0,
             "ticks": ""
            },
            "type": "choropleth"
           }
          ],
          "contour": [
           {
            "colorbar": {
             "outlinewidth": 0,
             "ticks": ""
            },
            "colorscale": [
             [
              0,
              "#0d0887"
             ],
             [
              0.1111111111111111,
              "#46039f"
             ],
             [
              0.2222222222222222,
              "#7201a8"
             ],
             [
              0.3333333333333333,
              "#9c179e"
             ],
             [
              0.4444444444444444,
              "#bd3786"
             ],
             [
              0.5555555555555556,
              "#d8576b"
             ],
             [
              0.6666666666666666,
              "#ed7953"
             ],
             [
              0.7777777777777778,
              "#fb9f3a"
             ],
             [
              0.8888888888888888,
              "#fdca26"
             ],
             [
              1,
              "#f0f921"
             ]
            ],
            "type": "contour"
           }
          ],
          "contourcarpet": [
           {
            "colorbar": {
             "outlinewidth": 0,
             "ticks": ""
            },
            "type": "contourcarpet"
           }
          ],
          "heatmap": [
           {
            "colorbar": {
             "outlinewidth": 0,
             "ticks": ""
            },
            "colorscale": [
             [
              0,
              "#0d0887"
             ],
             [
              0.1111111111111111,
              "#46039f"
             ],
             [
              0.2222222222222222,
              "#7201a8"
             ],
             [
              0.3333333333333333,
              "#9c179e"
             ],
             [
              0.4444444444444444,
              "#bd3786"
             ],
             [
              0.5555555555555556,
              "#d8576b"
             ],
             [
              0.6666666666666666,
              "#ed7953"
             ],
             [
              0.7777777777777778,
              "#fb9f3a"
             ],
             [
              0.8888888888888888,
              "#fdca26"
             ],
             [
              1,
              "#f0f921"
             ]
            ],
            "type": "heatmap"
           }
          ],
          "heatmapgl": [
           {
            "colorbar": {
             "outlinewidth": 0,
             "ticks": ""
            },
            "colorscale": [
             [
              0,
              "#0d0887"
             ],
             [
              0.1111111111111111,
              "#46039f"
             ],
             [
              0.2222222222222222,
              "#7201a8"
             ],
             [
              0.3333333333333333,
              "#9c179e"
             ],
             [
              0.4444444444444444,
              "#bd3786"
             ],
             [
              0.5555555555555556,
              "#d8576b"
             ],
             [
              0.6666666666666666,
              "#ed7953"
             ],
             [
              0.7777777777777778,
              "#fb9f3a"
             ],
             [
              0.8888888888888888,
              "#fdca26"
             ],
             [
              1,
              "#f0f921"
             ]
            ],
            "type": "heatmapgl"
           }
          ],
          "histogram": [
           {
            "marker": {
             "pattern": {
              "fillmode": "overlay",
              "size": 10,
              "solidity": 0.2
             }
            },
            "type": "histogram"
           }
          ],
          "histogram2d": [
           {
            "colorbar": {
             "outlinewidth": 0,
             "ticks": ""
            },
            "colorscale": [
             [
              0,
              "#0d0887"
             ],
             [
              0.1111111111111111,
              "#46039f"
             ],
             [
              0.2222222222222222,
              "#7201a8"
             ],
             [
              0.3333333333333333,
              "#9c179e"
             ],
             [
              0.4444444444444444,
              "#bd3786"
             ],
             [
              0.5555555555555556,
              "#d8576b"
             ],
             [
              0.6666666666666666,
              "#ed7953"
             ],
             [
              0.7777777777777778,
              "#fb9f3a"
             ],
             [
              0.8888888888888888,
              "#fdca26"
             ],
             [
              1,
              "#f0f921"
             ]
            ],
            "type": "histogram2d"
           }
          ],
          "histogram2dcontour": [
           {
            "colorbar": {
             "outlinewidth": 0,
             "ticks": ""
            },
            "colorscale": [
             [
              0,
              "#0d0887"
             ],
             [
              0.1111111111111111,
              "#46039f"
             ],
             [
              0.2222222222222222,
              "#7201a8"
             ],
             [
              0.3333333333333333,
              "#9c179e"
             ],
             [
              0.4444444444444444,
              "#bd3786"
             ],
             [
              0.5555555555555556,
              "#d8576b"
             ],
             [
              0.6666666666666666,
              "#ed7953"
             ],
             [
              0.7777777777777778,
              "#fb9f3a"
             ],
             [
              0.8888888888888888,
              "#fdca26"
             ],
             [
              1,
              "#f0f921"
             ]
            ],
            "type": "histogram2dcontour"
           }
          ],
          "mesh3d": [
           {
            "colorbar": {
             "outlinewidth": 0,
             "ticks": ""
            },
            "type": "mesh3d"
           }
          ],
          "parcoords": [
           {
            "line": {
             "colorbar": {
              "outlinewidth": 0,
              "ticks": ""
             }
            },
            "type": "parcoords"
           }
          ],
          "pie": [
           {
            "automargin": true,
            "type": "pie"
           }
          ],
          "scatter": [
           {
            "fillpattern": {
             "fillmode": "overlay",
             "size": 10,
             "solidity": 0.2
            },
            "type": "scatter"
           }
          ],
          "scatter3d": [
           {
            "line": {
             "colorbar": {
              "outlinewidth": 0,
              "ticks": ""
             }
            },
            "marker": {
             "colorbar": {
              "outlinewidth": 0,
              "ticks": ""
             }
            },
            "type": "scatter3d"
           }
          ],
          "scattercarpet": [
           {
            "marker": {
             "colorbar": {
              "outlinewidth": 0,
              "ticks": ""
             }
            },
            "type": "scattercarpet"
           }
          ],
          "scattergeo": [
           {
            "marker": {
             "colorbar": {
              "outlinewidth": 0,
              "ticks": ""
             }
            },
            "type": "scattergeo"
           }
          ],
          "scattergl": [
           {
            "marker": {
             "colorbar": {
              "outlinewidth": 0,
              "ticks": ""
             }
            },
            "type": "scattergl"
           }
          ],
          "scattermapbox": [
           {
            "marker": {
             "colorbar": {
              "outlinewidth": 0,
              "ticks": ""
             }
            },
            "type": "scattermapbox"
           }
          ],
          "scatterpolar": [
           {
            "marker": {
             "colorbar": {
              "outlinewidth": 0,
              "ticks": ""
             }
            },
            "type": "scatterpolar"
           }
          ],
          "scatterpolargl": [
           {
            "marker": {
             "colorbar": {
              "outlinewidth": 0,
              "ticks": ""
             }
            },
            "type": "scatterpolargl"
           }
          ],
          "scatterternary": [
           {
            "marker": {
             "colorbar": {
              "outlinewidth": 0,
              "ticks": ""
             }
            },
            "type": "scatterternary"
           }
          ],
          "surface": [
           {
            "colorbar": {
             "outlinewidth": 0,
             "ticks": ""
            },
            "colorscale": [
             [
              0,
              "#0d0887"
             ],
             [
              0.1111111111111111,
              "#46039f"
             ],
             [
              0.2222222222222222,
              "#7201a8"
             ],
             [
              0.3333333333333333,
              "#9c179e"
             ],
             [
              0.4444444444444444,
              "#bd3786"
             ],
             [
              0.5555555555555556,
              "#d8576b"
             ],
             [
              0.6666666666666666,
              "#ed7953"
             ],
             [
              0.7777777777777778,
              "#fb9f3a"
             ],
             [
              0.8888888888888888,
              "#fdca26"
             ],
             [
              1,
              "#f0f921"
             ]
            ],
            "type": "surface"
           }
          ],
          "table": [
           {
            "cells": {
             "fill": {
              "color": "#EBF0F8"
             },
             "line": {
              "color": "white"
             }
            },
            "header": {
             "fill": {
              "color": "#C8D4E3"
             },
             "line": {
              "color": "white"
             }
            },
            "type": "table"
           }
          ]
         },
         "layout": {
          "annotationdefaults": {
           "arrowcolor": "#2a3f5f",
           "arrowhead": 0,
           "arrowwidth": 1
          },
          "autotypenumbers": "strict",
          "coloraxis": {
           "colorbar": {
            "outlinewidth": 0,
            "ticks": ""
           }
          },
          "colorscale": {
           "diverging": [
            [
             0,
             "#8e0152"
            ],
            [
             0.1,
             "#c51b7d"
            ],
            [
             0.2,
             "#de77ae"
            ],
            [
             0.3,
             "#f1b6da"
            ],
            [
             0.4,
             "#fde0ef"
            ],
            [
             0.5,
             "#f7f7f7"
            ],
            [
             0.6,
             "#e6f5d0"
            ],
            [
             0.7,
             "#b8e186"
            ],
            [
             0.8,
             "#7fbc41"
            ],
            [
             0.9,
             "#4d9221"
            ],
            [
             1,
             "#276419"
            ]
           ],
           "sequential": [
            [
             0,
             "#0d0887"
            ],
            [
             0.1111111111111111,
             "#46039f"
            ],
            [
             0.2222222222222222,
             "#7201a8"
            ],
            [
             0.3333333333333333,
             "#9c179e"
            ],
            [
             0.4444444444444444,
             "#bd3786"
            ],
            [
             0.5555555555555556,
             "#d8576b"
            ],
            [
             0.6666666666666666,
             "#ed7953"
            ],
            [
             0.7777777777777778,
             "#fb9f3a"
            ],
            [
             0.8888888888888888,
             "#fdca26"
            ],
            [
             1,
             "#f0f921"
            ]
           ],
           "sequentialminus": [
            [
             0,
             "#0d0887"
            ],
            [
             0.1111111111111111,
             "#46039f"
            ],
            [
             0.2222222222222222,
             "#7201a8"
            ],
            [
             0.3333333333333333,
             "#9c179e"
            ],
            [
             0.4444444444444444,
             "#bd3786"
            ],
            [
             0.5555555555555556,
             "#d8576b"
            ],
            [
             0.6666666666666666,
             "#ed7953"
            ],
            [
             0.7777777777777778,
             "#fb9f3a"
            ],
            [
             0.8888888888888888,
             "#fdca26"
            ],
            [
             1,
             "#f0f921"
            ]
           ]
          },
          "colorway": [
           "#636efa",
           "#EF553B",
           "#00cc96",
           "#ab63fa",
           "#FFA15A",
           "#19d3f3",
           "#FF6692",
           "#B6E880",
           "#FF97FF",
           "#FECB52"
          ],
          "font": {
           "color": "#2a3f5f"
          },
          "geo": {
           "bgcolor": "white",
           "lakecolor": "white",
           "landcolor": "#E5ECF6",
           "showlakes": true,
           "showland": true,
           "subunitcolor": "white"
          },
          "hoverlabel": {
           "align": "left"
          },
          "hovermode": "closest",
          "mapbox": {
           "style": "light"
          },
          "paper_bgcolor": "white",
          "plot_bgcolor": "#E5ECF6",
          "polar": {
           "angularaxis": {
            "gridcolor": "white",
            "linecolor": "white",
            "ticks": ""
           },
           "bgcolor": "#E5ECF6",
           "radialaxis": {
            "gridcolor": "white",
            "linecolor": "white",
            "ticks": ""
           }
          },
          "scene": {
           "xaxis": {
            "backgroundcolor": "#E5ECF6",
            "gridcolor": "white",
            "gridwidth": 2,
            "linecolor": "white",
            "showbackground": true,
            "ticks": "",
            "zerolinecolor": "white"
           },
           "yaxis": {
            "backgroundcolor": "#E5ECF6",
            "gridcolor": "white",
            "gridwidth": 2,
            "linecolor": "white",
            "showbackground": true,
            "ticks": "",
            "zerolinecolor": "white"
           },
           "zaxis": {
            "backgroundcolor": "#E5ECF6",
            "gridcolor": "white",
            "gridwidth": 2,
            "linecolor": "white",
            "showbackground": true,
            "ticks": "",
            "zerolinecolor": "white"
           }
          },
          "shapedefaults": {
           "line": {
            "color": "#2a3f5f"
           }
          },
          "ternary": {
           "aaxis": {
            "gridcolor": "white",
            "linecolor": "white",
            "ticks": ""
           },
           "baxis": {
            "gridcolor": "white",
            "linecolor": "white",
            "ticks": ""
           },
           "bgcolor": "#E5ECF6",
           "caxis": {
            "gridcolor": "white",
            "linecolor": "white",
            "ticks": ""
           }
          },
          "title": {
           "x": 0.05
          },
          "xaxis": {
           "automargin": true,
           "gridcolor": "white",
           "linecolor": "white",
           "ticks": "",
           "title": {
            "standoff": 15
           },
           "zerolinecolor": "white",
           "zerolinewidth": 2
          },
          "yaxis": {
           "automargin": true,
           "gridcolor": "white",
           "linecolor": "white",
           "ticks": "",
           "title": {
            "standoff": 15
           },
           "zerolinecolor": "white",
           "zerolinewidth": 2
          }
         }
        },
        "title": {
         "text": "Evolution du cours du Bitcoin"
        },
        "width": 1000,
        "xaxis": {
         "anchor": "y",
         "domain": [
          0,
          1
         ],
         "title": {
          "text": "Last update"
         }
        },
        "xaxis2": {
         "anchor": "y2",
         "domain": [
          0,
          1
         ],
         "title": {
          "text": "Last update"
         }
        },
        "xaxis3": {
         "anchor": "y3",
         "domain": [
          0,
          1
         ]
        },
        "xaxis4": {
         "anchor": "y4",
         "domain": [
          0,
          1
         ]
        },
        "yaxis": {
         "anchor": "x",
         "domain": [
          0.84375,
          1
         ],
         "title": {
          "text": "euro"
         }
        },
        "yaxis2": {
         "anchor": "x2",
         "domain": [
          0.5625,
          0.71875
         ],
         "title": {
          "text": "eur_24h_vol"
         }
        },
        "yaxis3": {
         "anchor": "x3",
         "domain": [
          0.28125,
          0.4375
         ]
        },
        "yaxis4": {
         "anchor": "x4",
         "domain": [
          0,
          0.15625
         ]
        }
       }
      },
      "text/html": [
       "<div>                            <div id=\"c7778403-390b-4c4f-bd06-0556b4e46aa3\" class=\"plotly-graph-div\" style=\"height:1200px; width:1000px;\"></div>            <script type=\"text/javascript\">                require([\"plotly\"], function(Plotly) {                    window.PLOTLYENV=window.PLOTLYENV || {};                                    if (document.getElementById(\"c7778403-390b-4c4f-bd06-0556b4e46aa3\")) {                    Plotly.newPlot(                        \"c7778403-390b-4c4f-bd06-0556b4e46aa3\",                        [{\"name\":\"cours BTC euro\",\"x\":[\"2023-08-23 01:14:56\",\"2023-08-23 01:19:55\",\"2023-08-23 01:24:56\",\"2023-08-23 01:35:02\",\"2023-08-23 01:40:00\",\"2023-08-23 01:44:58\",\"2023-08-23 02:00:00\",\"2023-08-23 02:04:55\",\"2023-08-23 02:09:54\",\"2023-08-23 02:19:56\",\"2023-08-23 02:30:03\",\"2023-08-23 02:35:00\",\"2023-08-23 02:44:56\",\"2023-08-23 02:49:54\",\"2023-08-23 03:00:02\",\"2023-08-23 03:09:58\",\"2023-08-23 03:14:56\",\"2023-08-23 03:19:58\",\"2023-08-23 03:24:54\",\"2023-08-23 03:30:02\",\"2023-08-23 03:39:55\",\"2023-08-23 03:44:53\",\"2023-08-23 03:50:03\",\"2023-08-23 03:55:02\",\"2023-08-23 04:00:01\",\"2023-08-23 04:14:56\",\"2023-08-23 04:19:56\",\"2023-08-23 04:30:02\",\"2023-08-23 04:35:00\",\"2023-08-23 04:44:55\",\"2023-08-23 04:50:03\",\"2023-08-23 04:54:54\",\"2023-08-23 05:09:56\",\"2023-08-23 05:14:54\",\"2023-08-23 05:19:54\",\"2023-08-23 05:30:00\",\"2023-08-23 05:44:54\",\"2023-08-23 05:50:02\",\"2023-08-23 05:55:03\",\"2023-08-23 06:00:02\",\"2023-08-23 06:04:56\",\"2023-08-23 06:09:53\",\"2023-08-23 06:20:00\",\"2023-08-23 06:34:57\",\"2023-08-23 06:39:55\",\"2023-08-23 06:44:54\",\"2023-08-23 06:49:54\",\"2023-08-23 06:54:54\",\"2023-08-23 07:00:00\",\"2023-08-23 07:04:59\",\"2023-08-23 07:09:59\",\"2023-08-23 07:20:01\",\"2023-08-23 07:29:59\",\"2023-08-23 07:34:57\",\"2023-08-23 07:39:58\",\"2023-08-23 07:44:55\",\"2023-08-23 07:54:40\"],\"y\":[23979.29,23982.77,23953.83,23975.64,23968.61,24008.26,23987.32,24004.93,24002.12,23977.55,23983.07,23983.53,23992.11,23980.36,23981.85,23982.91,23985.06,23978.73,23964.62,23954.76,23955.35,23942.74,23938.84,23936.47,23946.98,23933.67,23938.72,23946.87,23948.13,23949.44,23969.35,23985.2,23965.47,23963.16,23965.06,23955.51,23933.03,23930.87,23936.2,23961.93,23967.47,23961.42,23993.01,23990.88,24018.74,24009.81,24059.0,24057.55,24010.94,23974.58,23991.8,24043.65,24006.47,23979.3,24073.46,24058.96,24056.47],\"type\":\"scatter\",\"xaxis\":\"x\",\"yaxis\":\"y\",\"mode\":\"markers+lines\"},{\"name\":\"cours BTC dollar\",\"x\":[\"2023-08-23 01:14:56\",\"2023-08-23 01:19:55\",\"2023-08-23 01:24:56\",\"2023-08-23 01:35:02\",\"2023-08-23 01:40:00\",\"2023-08-23 01:44:58\",\"2023-08-23 02:00:00\",\"2023-08-23 02:04:55\",\"2023-08-23 02:09:54\",\"2023-08-23 02:19:56\",\"2023-08-23 02:30:03\",\"2023-08-23 02:35:00\",\"2023-08-23 02:44:56\",\"2023-08-23 02:49:54\",\"2023-08-23 03:00:02\",\"2023-08-23 03:09:58\",\"2023-08-23 03:14:56\",\"2023-08-23 03:19:58\",\"2023-08-23 03:24:54\",\"2023-08-23 03:30:02\",\"2023-08-23 03:39:55\",\"2023-08-23 03:44:53\",\"2023-08-23 03:50:03\",\"2023-08-23 03:55:02\",\"2023-08-23 04:00:01\",\"2023-08-23 04:14:56\",\"2023-08-23 04:19:56\",\"2023-08-23 04:30:02\",\"2023-08-23 04:35:00\",\"2023-08-23 04:44:55\",\"2023-08-23 04:50:03\",\"2023-08-23 04:54:54\",\"2023-08-23 05:09:56\",\"2023-08-23 05:14:54\",\"2023-08-23 05:19:54\",\"2023-08-23 05:30:00\",\"2023-08-23 05:44:54\",\"2023-08-23 05:50:02\",\"2023-08-23 05:55:03\",\"2023-08-23 06:00:02\",\"2023-08-23 06:04:56\",\"2023-08-23 06:09:53\",\"2023-08-23 06:20:00\",\"2023-08-23 06:34:57\",\"2023-08-23 06:39:55\",\"2023-08-23 06:44:54\",\"2023-08-23 06:49:54\",\"2023-08-23 06:54:54\",\"2023-08-23 07:00:00\",\"2023-08-23 07:04:59\",\"2023-08-23 07:09:59\",\"2023-08-23 07:20:01\",\"2023-08-23 07:29:59\",\"2023-08-23 07:34:57\",\"2023-08-23 07:39:58\",\"2023-08-23 07:44:55\",\"2023-08-23 07:54:40\"],\"y\":[26015.63,26021.53,25998.62,26022.43,26011.31,26052.56,26041.25,26056.15,26055.53,26028.82,26032.65,26030.52,26041.81,26034.28,26029.91,26033.83,26036.95,26022.82,26010.17,25998.59,26007.13,26001.57,25992.54,25990.61,26000.33,25986.18,25991.31,25995.52,25996.9,26001.34,26025.95,26043.73,26027.3,26027.59,26030.64,26019.28,25990.38,25991.58,25992.27,26029.37,26033.48,26028.11,26046.89,26041.85,26068.74,26060.66,26125.67,26125.26,26078.66,26038.89,26054.06,26111.92,26092.11,26054.91,26045.52,26022.46,26041.49],\"type\":\"scatter\",\"xaxis\":\"x2\",\"yaxis\":\"y2\",\"mode\":\"markers+lines\"},{\"name\":\"capitalisation boursi\\u00e8re\",\"x\":[\"2023-08-23 01:14:56\",\"2023-08-23 01:19:55\",\"2023-08-23 01:24:56\",\"2023-08-23 01:35:02\",\"2023-08-23 01:40:00\",\"2023-08-23 01:44:58\",\"2023-08-23 02:00:00\",\"2023-08-23 02:04:55\",\"2023-08-23 02:09:54\",\"2023-08-23 02:19:56\",\"2023-08-23 02:30:03\",\"2023-08-23 02:35:00\",\"2023-08-23 02:44:56\",\"2023-08-23 02:49:54\",\"2023-08-23 03:00:02\",\"2023-08-23 03:09:58\",\"2023-08-23 03:14:56\",\"2023-08-23 03:19:58\",\"2023-08-23 03:24:54\",\"2023-08-23 03:30:02\",\"2023-08-23 03:39:55\",\"2023-08-23 03:44:53\",\"2023-08-23 03:50:03\",\"2023-08-23 03:55:02\",\"2023-08-23 04:00:01\",\"2023-08-23 04:14:56\",\"2023-08-23 04:19:56\",\"2023-08-23 04:30:02\",\"2023-08-23 04:35:00\",\"2023-08-23 04:44:55\",\"2023-08-23 04:50:03\",\"2023-08-23 04:54:54\",\"2023-08-23 05:09:56\",\"2023-08-23 05:14:54\",\"2023-08-23 05:19:54\",\"2023-08-23 05:30:00\",\"2023-08-23 05:44:54\",\"2023-08-23 05:50:02\",\"2023-08-23 05:55:03\",\"2023-08-23 06:00:02\",\"2023-08-23 06:04:56\",\"2023-08-23 06:09:53\",\"2023-08-23 06:20:00\",\"2023-08-23 06:34:57\",\"2023-08-23 06:39:55\",\"2023-08-23 06:44:54\",\"2023-08-23 06:49:54\",\"2023-08-23 06:54:54\",\"2023-08-23 07:00:00\",\"2023-08-23 07:04:59\",\"2023-08-23 07:09:59\",\"2023-08-23 07:20:01\",\"2023-08-23 07:29:59\",\"2023-08-23 07:34:57\",\"2023-08-23 07:39:58\",\"2023-08-23 07:44:55\",\"2023-08-23 07:54:40\"],\"y\":[466677140072.07733,466677140072.07733,466531136455.17487,466724588066.3258,466724588066.3258,466568843803.7952,467718018237.6789,466855887429.41394,466855887429.41394,467140180255.8261,466688013407.804,466903262547.27026,466945807715.9083,466945807715.9083,466768589703.4881,466811011879.7874,466703545061.5472,466703545061.5472,466738596735.28375,466738596735.28375,466317940561.13074,466199666802.5266,466199666802.5266,465978304386.7643,465978304386.7643,465732767377.00885,465732767377.00885,465871665838.9892,466202560875.3105,466146264961.17773,466146264961.17773,466572135489.52783,466677568214.6411,466189315660.9341,466189315660.9341,466319350237.2551,465710116410.6912,465710116410.6912,465830009895.96094,465830009895.96094,466692488208.5455,466692488208.5455,466797453050.8032,467159720453.9163,467159720453.9163,467414469975.2877,467414469975.2877,469385370906.3789,469385370906.3789,467167548921.51904,467012742371.55927,468043608492.7157,468043608492.7157,467457565345.3198,467457565345.3198,468567190389.1913,468584204711.038],\"type\":\"scatter\",\"xaxis\":\"x3\",\"yaxis\":\"y3\",\"mode\":\"markers+lines\"},{\"name\":\"Volume de n\\u00e9gociation sur 24 h\",\"x\":[\"2023-08-23 01:14:56\",\"2023-08-23 01:19:55\",\"2023-08-23 01:24:56\",\"2023-08-23 01:35:02\",\"2023-08-23 01:40:00\",\"2023-08-23 01:44:58\",\"2023-08-23 02:00:00\",\"2023-08-23 02:04:55\",\"2023-08-23 02:09:54\",\"2023-08-23 02:19:56\",\"2023-08-23 02:30:03\",\"2023-08-23 02:35:00\",\"2023-08-23 02:44:56\",\"2023-08-23 02:49:54\",\"2023-08-23 03:00:02\",\"2023-08-23 03:09:58\",\"2023-08-23 03:14:56\",\"2023-08-23 03:19:58\",\"2023-08-23 03:24:54\",\"2023-08-23 03:30:02\",\"2023-08-23 03:39:55\",\"2023-08-23 03:44:53\",\"2023-08-23 03:50:03\",\"2023-08-23 03:55:02\",\"2023-08-23 04:00:01\",\"2023-08-23 04:14:56\",\"2023-08-23 04:19:56\",\"2023-08-23 04:30:02\",\"2023-08-23 04:35:00\",\"2023-08-23 04:44:55\",\"2023-08-23 04:50:03\",\"2023-08-23 04:54:54\",\"2023-08-23 05:09:56\",\"2023-08-23 05:14:54\",\"2023-08-23 05:19:54\",\"2023-08-23 05:30:00\",\"2023-08-23 05:44:54\",\"2023-08-23 05:50:02\",\"2023-08-23 05:55:03\",\"2023-08-23 06:00:02\",\"2023-08-23 06:04:56\",\"2023-08-23 06:09:53\",\"2023-08-23 06:20:00\",\"2023-08-23 06:34:57\",\"2023-08-23 06:39:55\",\"2023-08-23 06:44:54\",\"2023-08-23 06:49:54\",\"2023-08-23 06:54:54\",\"2023-08-23 07:00:00\",\"2023-08-23 07:04:59\",\"2023-08-23 07:09:59\",\"2023-08-23 07:20:01\",\"2023-08-23 07:29:59\",\"2023-08-23 07:34:57\",\"2023-08-23 07:39:58\",\"2023-08-23 07:44:55\",\"2023-08-23 07:54:40\"],\"y\":[9329058234.743841,13211577213.096449,10834502033.09501,10477942371.268433,7798840650.504423,13765976998.69256,13412865146.221586,13725181100.795301,6393497172.143795,12720230551.518097,9338594380.392004,8865622967.19846,9550236466.761404,13795453586.520765,10812062151.180052,9756777510.134886,11018496217.537136,13709155816.707302,13814831191.951792,11664816969.268173,11066709958.695324,13777387135.60233,10038941976.421118,11158889162.042854,13833629181.068134,11645973233.28346,11208196365.562042,12813841877.75738,9938526968.244457,11341124697.256054,12130135131.813265,12372394170.469002,12055082122.060066,13734725087.19353,13467380951.007584,8621538862.221476,11044789439.504457,11797011970.45843,10859785911.981234,9993570966.40679,10365769815.675976,4799280505.713341,13556268897.561453,10681304354.664867,13983793984.909546,13484609232.35463,12148779991.862566,11655565265.860546,12080262923.679935,12614597141.728134,12671758112.280361,12443347936.868374,11629339763.138735,14523503757.867891,9402201730.167261,12591413425.038702,10819031647.510817],\"type\":\"scatter\",\"xaxis\":\"x4\",\"yaxis\":\"y4\",\"mode\":\"markers+lines\"}],                        {\"template\":{\"data\":{\"histogram2dcontour\":[{\"type\":\"histogram2dcontour\",\"colorbar\":{\"outlinewidth\":0,\"ticks\":\"\"},\"colorscale\":[[0.0,\"#0d0887\"],[0.1111111111111111,\"#46039f\"],[0.2222222222222222,\"#7201a8\"],[0.3333333333333333,\"#9c179e\"],[0.4444444444444444,\"#bd3786\"],[0.5555555555555556,\"#d8576b\"],[0.6666666666666666,\"#ed7953\"],[0.7777777777777778,\"#fb9f3a\"],[0.8888888888888888,\"#fdca26\"],[1.0,\"#f0f921\"]]}],\"choropleth\":[{\"type\":\"choropleth\",\"colorbar\":{\"outlinewidth\":0,\"ticks\":\"\"}}],\"histogram2d\":[{\"type\":\"histogram2d\",\"colorbar\":{\"outlinewidth\":0,\"ticks\":\"\"},\"colorscale\":[[0.0,\"#0d0887\"],[0.1111111111111111,\"#46039f\"],[0.2222222222222222,\"#7201a8\"],[0.3333333333333333,\"#9c179e\"],[0.4444444444444444,\"#bd3786\"],[0.5555555555555556,\"#d8576b\"],[0.6666666666666666,\"#ed7953\"],[0.7777777777777778,\"#fb9f3a\"],[0.8888888888888888,\"#fdca26\"],[1.0,\"#f0f921\"]]}],\"heatmap\":[{\"type\":\"heatmap\",\"colorbar\":{\"outlinewidth\":0,\"ticks\":\"\"},\"colorscale\":[[0.0,\"#0d0887\"],[0.1111111111111111,\"#46039f\"],[0.2222222222222222,\"#7201a8\"],[0.3333333333333333,\"#9c179e\"],[0.4444444444444444,\"#bd3786\"],[0.5555555555555556,\"#d8576b\"],[0.6666666666666666,\"#ed7953\"],[0.7777777777777778,\"#fb9f3a\"],[0.8888888888888888,\"#fdca26\"],[1.0,\"#f0f921\"]]}],\"heatmapgl\":[{\"type\":\"heatmapgl\",\"colorbar\":{\"outlinewidth\":0,\"ticks\":\"\"},\"colorscale\":[[0.0,\"#0d0887\"],[0.1111111111111111,\"#46039f\"],[0.2222222222222222,\"#7201a8\"],[0.3333333333333333,\"#9c179e\"],[0.4444444444444444,\"#bd3786\"],[0.5555555555555556,\"#d8576b\"],[0.6666666666666666,\"#ed7953\"],[0.7777777777777778,\"#fb9f3a\"],[0.8888888888888888,\"#fdca26\"],[1.0,\"#f0f921\"]]}],\"contourcarpet\":[{\"type\":\"contourcarpet\",\"colorbar\":{\"outlinewidth\":0,\"ticks\":\"\"}}],\"contour\":[{\"type\":\"contour\",\"colorbar\":{\"outlinewidth\":0,\"ticks\":\"\"},\"colorscale\":[[0.0,\"#0d0887\"],[0.1111111111111111,\"#46039f\"],[0.2222222222222222,\"#7201a8\"],[0.3333333333333333,\"#9c179e\"],[0.4444444444444444,\"#bd3786\"],[0.5555555555555556,\"#d8576b\"],[0.6666666666666666,\"#ed7953\"],[0.7777777777777778,\"#fb9f3a\"],[0.8888888888888888,\"#fdca26\"],[1.0,\"#f0f921\"]]}],\"surface\":[{\"type\":\"surface\",\"colorbar\":{\"outlinewidth\":0,\"ticks\":\"\"},\"colorscale\":[[0.0,\"#0d0887\"],[0.1111111111111111,\"#46039f\"],[0.2222222222222222,\"#7201a8\"],[0.3333333333333333,\"#9c179e\"],[0.4444444444444444,\"#bd3786\"],[0.5555555555555556,\"#d8576b\"],[0.6666666666666666,\"#ed7953\"],[0.7777777777777778,\"#fb9f3a\"],[0.8888888888888888,\"#fdca26\"],[1.0,\"#f0f921\"]]}],\"mesh3d\":[{\"type\":\"mesh3d\",\"colorbar\":{\"outlinewidth\":0,\"ticks\":\"\"}}],\"scatter\":[{\"fillpattern\":{\"fillmode\":\"overlay\",\"size\":10,\"solidity\":0.2},\"type\":\"scatter\"}],\"parcoords\":[{\"type\":\"parcoords\",\"line\":{\"colorbar\":{\"outlinewidth\":0,\"ticks\":\"\"}}}],\"scatterpolargl\":[{\"type\":\"scatterpolargl\",\"marker\":{\"colorbar\":{\"outlinewidth\":0,\"ticks\":\"\"}}}],\"bar\":[{\"error_x\":{\"color\":\"#2a3f5f\"},\"error_y\":{\"color\":\"#2a3f5f\"},\"marker\":{\"line\":{\"color\":\"#E5ECF6\",\"width\":0.5},\"pattern\":{\"fillmode\":\"overlay\",\"size\":10,\"solidity\":0.2}},\"type\":\"bar\"}],\"scattergeo\":[{\"type\":\"scattergeo\",\"marker\":{\"colorbar\":{\"outlinewidth\":0,\"ticks\":\"\"}}}],\"scatterpolar\":[{\"type\":\"scatterpolar\",\"marker\":{\"colorbar\":{\"outlinewidth\":0,\"ticks\":\"\"}}}],\"histogram\":[{\"marker\":{\"pattern\":{\"fillmode\":\"overlay\",\"size\":10,\"solidity\":0.2}},\"type\":\"histogram\"}],\"scattergl\":[{\"type\":\"scattergl\",\"marker\":{\"colorbar\":{\"outlinewidth\":0,\"ticks\":\"\"}}}],\"scatter3d\":[{\"type\":\"scatter3d\",\"line\":{\"colorbar\":{\"outlinewidth\":0,\"ticks\":\"\"}},\"marker\":{\"colorbar\":{\"outlinewidth\":0,\"ticks\":\"\"}}}],\"scattermapbox\":[{\"type\":\"scattermapbox\",\"marker\":{\"colorbar\":{\"outlinewidth\":0,\"ticks\":\"\"}}}],\"scatterternary\":[{\"type\":\"scatterternary\",\"marker\":{\"colorbar\":{\"outlinewidth\":0,\"ticks\":\"\"}}}],\"scattercarpet\":[{\"type\":\"scattercarpet\",\"marker\":{\"colorbar\":{\"outlinewidth\":0,\"ticks\":\"\"}}}],\"carpet\":[{\"aaxis\":{\"endlinecolor\":\"#2a3f5f\",\"gridcolor\":\"white\",\"linecolor\":\"white\",\"minorgridcolor\":\"white\",\"startlinecolor\":\"#2a3f5f\"},\"baxis\":{\"endlinecolor\":\"#2a3f5f\",\"gridcolor\":\"white\",\"linecolor\":\"white\",\"minorgridcolor\":\"white\",\"startlinecolor\":\"#2a3f5f\"},\"type\":\"carpet\"}],\"table\":[{\"cells\":{\"fill\":{\"color\":\"#EBF0F8\"},\"line\":{\"color\":\"white\"}},\"header\":{\"fill\":{\"color\":\"#C8D4E3\"},\"line\":{\"color\":\"white\"}},\"type\":\"table\"}],\"barpolar\":[{\"marker\":{\"line\":{\"color\":\"#E5ECF6\",\"width\":0.5},\"pattern\":{\"fillmode\":\"overlay\",\"size\":10,\"solidity\":0.2}},\"type\":\"barpolar\"}],\"pie\":[{\"automargin\":true,\"type\":\"pie\"}]},\"layout\":{\"autotypenumbers\":\"strict\",\"colorway\":[\"#636efa\",\"#EF553B\",\"#00cc96\",\"#ab63fa\",\"#FFA15A\",\"#19d3f3\",\"#FF6692\",\"#B6E880\",\"#FF97FF\",\"#FECB52\"],\"font\":{\"color\":\"#2a3f5f\"},\"hovermode\":\"closest\",\"hoverlabel\":{\"align\":\"left\"},\"paper_bgcolor\":\"white\",\"plot_bgcolor\":\"#E5ECF6\",\"polar\":{\"bgcolor\":\"#E5ECF6\",\"angularaxis\":{\"gridcolor\":\"white\",\"linecolor\":\"white\",\"ticks\":\"\"},\"radialaxis\":{\"gridcolor\":\"white\",\"linecolor\":\"white\",\"ticks\":\"\"}},\"ternary\":{\"bgcolor\":\"#E5ECF6\",\"aaxis\":{\"gridcolor\":\"white\",\"linecolor\":\"white\",\"ticks\":\"\"},\"baxis\":{\"gridcolor\":\"white\",\"linecolor\":\"white\",\"ticks\":\"\"},\"caxis\":{\"gridcolor\":\"white\",\"linecolor\":\"white\",\"ticks\":\"\"}},\"coloraxis\":{\"colorbar\":{\"outlinewidth\":0,\"ticks\":\"\"}},\"colorscale\":{\"sequential\":[[0.0,\"#0d0887\"],[0.1111111111111111,\"#46039f\"],[0.2222222222222222,\"#7201a8\"],[0.3333333333333333,\"#9c179e\"],[0.4444444444444444,\"#bd3786\"],[0.5555555555555556,\"#d8576b\"],[0.6666666666666666,\"#ed7953\"],[0.7777777777777778,\"#fb9f3a\"],[0.8888888888888888,\"#fdca26\"],[1.0,\"#f0f921\"]],\"sequentialminus\":[[0.0,\"#0d0887\"],[0.1111111111111111,\"#46039f\"],[0.2222222222222222,\"#7201a8\"],[0.3333333333333333,\"#9c179e\"],[0.4444444444444444,\"#bd3786\"],[0.5555555555555556,\"#d8576b\"],[0.6666666666666666,\"#ed7953\"],[0.7777777777777778,\"#fb9f3a\"],[0.8888888888888888,\"#fdca26\"],[1.0,\"#f0f921\"]],\"diverging\":[[0,\"#8e0152\"],[0.1,\"#c51b7d\"],[0.2,\"#de77ae\"],[0.3,\"#f1b6da\"],[0.4,\"#fde0ef\"],[0.5,\"#f7f7f7\"],[0.6,\"#e6f5d0\"],[0.7,\"#b8e186\"],[0.8,\"#7fbc41\"],[0.9,\"#4d9221\"],[1,\"#276419\"]]},\"xaxis\":{\"gridcolor\":\"white\",\"linecolor\":\"white\",\"ticks\":\"\",\"title\":{\"standoff\":15},\"zerolinecolor\":\"white\",\"automargin\":true,\"zerolinewidth\":2},\"yaxis\":{\"gridcolor\":\"white\",\"linecolor\":\"white\",\"ticks\":\"\",\"title\":{\"standoff\":15},\"zerolinecolor\":\"white\",\"automargin\":true,\"zerolinewidth\":2},\"scene\":{\"xaxis\":{\"backgroundcolor\":\"#E5ECF6\",\"gridcolor\":\"white\",\"linecolor\":\"white\",\"showbackground\":true,\"ticks\":\"\",\"zerolinecolor\":\"white\",\"gridwidth\":2},\"yaxis\":{\"backgroundcolor\":\"#E5ECF6\",\"gridcolor\":\"white\",\"linecolor\":\"white\",\"showbackground\":true,\"ticks\":\"\",\"zerolinecolor\":\"white\",\"gridwidth\":2},\"zaxis\":{\"backgroundcolor\":\"#E5ECF6\",\"gridcolor\":\"white\",\"linecolor\":\"white\",\"showbackground\":true,\"ticks\":\"\",\"zerolinecolor\":\"white\",\"gridwidth\":2}},\"shapedefaults\":{\"line\":{\"color\":\"#2a3f5f\"}},\"annotationdefaults\":{\"arrowcolor\":\"#2a3f5f\",\"arrowhead\":0,\"arrowwidth\":1},\"geo\":{\"bgcolor\":\"white\",\"landcolor\":\"#E5ECF6\",\"subunitcolor\":\"white\",\"showland\":true,\"showlakes\":true,\"lakecolor\":\"white\"},\"title\":{\"x\":0.05},\"mapbox\":{\"style\":\"light\"}}},\"xaxis\":{\"anchor\":\"y\",\"domain\":[0.0,1.0],\"title\":{\"text\":\"Last update\"}},\"yaxis\":{\"anchor\":\"x\",\"domain\":[0.84375,1.0],\"title\":{\"text\":\"euro\"}},\"xaxis2\":{\"anchor\":\"y2\",\"domain\":[0.0,1.0],\"title\":{\"text\":\"Last update\"}},\"yaxis2\":{\"anchor\":\"x2\",\"domain\":[0.5625,0.71875],\"title\":{\"text\":\"eur_24h_vol\"}},\"xaxis3\":{\"anchor\":\"y3\",\"domain\":[0.0,1.0]},\"yaxis3\":{\"anchor\":\"x3\",\"domain\":[0.28125,0.4375]},\"xaxis4\":{\"anchor\":\"y4\",\"domain\":[0.0,1.0]},\"yaxis4\":{\"anchor\":\"x4\",\"domain\":[0.0,0.15625]},\"annotations\":[{\"font\":{\"size\":16},\"showarrow\":false,\"text\":\"BTC euro last 24h\",\"x\":0.5,\"xanchor\":\"center\",\"xref\":\"paper\",\"y\":1.0,\"yanchor\":\"bottom\",\"yref\":\"paper\"},{\"font\":{\"size\":16},\"showarrow\":false,\"text\":\"BTC dollar last 24h\",\"x\":0.5,\"xanchor\":\"center\",\"xref\":\"paper\",\"y\":0.71875,\"yanchor\":\"bottom\",\"yref\":\"paper\"},{\"font\":{\"size\":16},\"showarrow\":false,\"text\":\"Capitalisation boursi\\u00e8re last 24h\",\"x\":0.5,\"xanchor\":\"center\",\"xref\":\"paper\",\"y\":0.4375,\"yanchor\":\"bottom\",\"yref\":\"paper\"},{\"font\":{\"size\":16},\"showarrow\":false,\"text\":\"volume d'\\u00e9change eur 24h\",\"x\":0.5,\"xanchor\":\"center\",\"xref\":\"paper\",\"y\":0.15625,\"yanchor\":\"bottom\",\"yref\":\"paper\"}],\"title\":{\"text\":\"Evolution du cours du Bitcoin\"},\"height\":1200,\"width\":1000,\"hovermode\":\"x unified\"},                        {\"responsive\": true}                    ).then(function(){\n",
       "                            \n",
       "var gd = document.getElementById('c7778403-390b-4c4f-bd06-0556b4e46aa3');\n",
       "var x = new MutationObserver(function (mutations, observer) {{\n",
       "        var display = window.getComputedStyle(gd).display;\n",
       "        if (!display || display === 'none') {{\n",
       "            console.log([gd, 'removed!']);\n",
       "            Plotly.purge(gd);\n",
       "            observer.disconnect();\n",
       "        }}\n",
       "}});\n",
       "\n",
       "// Listen for the removal of the full notebook cells\n",
       "var notebookContainer = gd.closest('#notebook-container');\n",
       "if (notebookContainer) {{\n",
       "    x.observe(notebookContainer, {childList: true});\n",
       "}}\n",
       "\n",
       "// Listen for the clearing of the current output cell\n",
       "var outputEl = gd.closest('.output');\n",
       "if (outputEl) {{\n",
       "    x.observe(outputEl, {childList: true});\n",
       "}}\n",
       "\n",
       "                        })                };                });            </script>        </div>"
      ]
     },
     "metadata": {},
     "output_type": "display_data"
    }
   ],
   "source": [
    "from plotly.subplots import make_subplots\n",
    "import plotly.graph_objects as go\n",
    "\n",
    "fig = make_subplots(\n",
    "    rows=4, cols=1,\n",
    "    subplot_titles=(\"BTC euro last 24h\", \"BTC dollar last 24h\",\"Capitalisation boursière last 24h\",\"volume d'échange eur 24h\"))\n",
    "\n",
    "# Update xaxis properties\n",
    "fig.update_xaxes(title_text=\"Last update\", row=1, col=1)\n",
    "# Update yaxis properties\n",
    "fig.update_yaxes(title_text=\"euro\", row=1, col=1)\n",
    "\n",
    "# Update xaxis properties\n",
    "fig.update_xaxes(title_text=\"Last update\", row=2, col=1)\n",
    "# Update yaxis properties\n",
    "fig.update_yaxes(title_text=\"dollar\", row=2, col=1)\n",
    "\n",
    "# Update xaxis properties\n",
    "fig.update_xaxes(title_text=\"Last update\", row=2, col=1)\n",
    "# Update yaxis properties\n",
    "fig.update_yaxes(title_text=\"eur_market_cap\", row=2, col=1)\n",
    "\n",
    "# Update xaxis properties\n",
    "fig.update_xaxes(title_text=\"Last update\", row=2, col=1)\n",
    "# Update yaxis properties\n",
    "fig.update_yaxes(title_text=\"eur_24h_vol\", row=2, col=1)\n",
    "\n",
    "fig.append_trace(go.Scatter(\n",
    "x = df_btc_no_duplicated[\"last_update\"],\n",
    "y = df_btc_no_duplicated[\"eur\"],\n",
    "name=\"cours BTC euro\"\n",
    "), row=1, col=1)\n",
    "\n",
    "fig.append_trace(go.Scatter(\n",
    "x = df_btc_no_duplicated[\"last_update\"],\n",
    "y = df_btc_no_duplicated[\"usd\"],\n",
    "name=\"cours BTC dollar\"\n",
    "), row=2, col=1)\n",
    "\n",
    "fig.append_trace(go.Scatter(\n",
    "x = df_btc_no_duplicated[\"last_update\"],\n",
    "y = df_btc_no_duplicated[\"eur_market_cap\"],\n",
    "name=\"capitalisation boursière\"\n",
    "), row=3, col=1)\n",
    "\n",
    "fig.append_trace(go.Scatter(\n",
    "x = df_btc_no_duplicated[\"last_update\"],\n",
    "y = df_btc_no_duplicated[\"eur_24h_vol\"],\n",
    "name=\"Volume de négociation sur 24 h\"\n",
    "), row=4, col=1)\n",
    "\n",
    "fig.update_traces(mode=\"markers+lines\", hovertemplate=None)\n",
    "fig.update_layout(height=1200, width=1000, title_text=\"Evolution du cours du Bitcoin\", hovermode = \"x unified\" )\n",
    "fig.show()"
   ]
  },
  {
   "cell_type": "code",
   "execution_count": null,
   "id": "1733e693",
   "metadata": {},
   "outputs": [],
   "source": [
    "## LE VOLUME D'ECHANGE est une métrique importante dans le suivi des marchés financiers pour plusieurs raisons:\n",
    "### LIQUIDITE : Un volume d'échange élevé est généralement associé à une meilleure liquidité du marché. Plus le volume est élevé, plus il est facile d'acheter ou de vendre un actif sans causer de fluctuations de prix excessives.\n",
    "### TENDANCE : Le volume d'échange peut fournir des informations sur la direction d'une tendance. Des volumes élevés pendant une hausse ou une baisse de prix peuvent indiquer la force de cette tendance.\n",
    "### CONFIRMATION : Les analystes techniques utilisent souvent le volume d'échange pour confirmer ou invalider les signaux de trading. Par exemple, une hausse des prix avec un volume élevé peut indiquer une tendance haussière plus solide.\n",
    "### VOLATILITE : Les périodes de faible volume d'échange peuvent contribuer à une plus grande volatilité des prix, car il peut être plus facile pour un petit nombre de transactions d'influencer les prix.\n",
    "### EVALUATION DU MARCHE: Le volume d'échange peut également donner une idée de l'intérêt actuel des investisseurs pour un actif particulier. Un volume élevé peut indiquer un intérêt accru, tandis qu'un volume faible peut indiquer un manque d'intérêt ou de participation.\n"
   ]
  },
  {
   "cell_type": "code",
   "execution_count": null,
   "id": "76b6f9d1",
   "metadata": {},
   "outputs": [],
   "source": []
  }
 ],
 "metadata": {
  "kernelspec": {
   "display_name": "Python 3 (ipykernel)",
   "language": "python",
   "name": "python3"
  },
  "language_info": {
   "codemirror_mode": {
    "name": "ipython",
    "version": 3
   },
   "file_extension": ".py",
   "mimetype": "text/x-python",
   "name": "python",
   "nbconvert_exporter": "python",
   "pygments_lexer": "ipython3",
   "version": "3.10.10"
  }
 },
 "nbformat": 4,
 "nbformat_minor": 5
}
