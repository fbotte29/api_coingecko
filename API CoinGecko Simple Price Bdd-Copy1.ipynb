{
 "cells": [
  {
   "cell_type": "code",
   "execution_count": 6,
   "id": "5b42f7a9",
   "metadata": {},
   "outputs": [],
   "source": [
    "import json\n",
    "import time\n",
    "import requests\n",
    "import sqlite3\n",
    "import pandas as pd"
   ]
  },
  {
   "cell_type": "markdown",
   "id": "b523f3fd",
   "metadata": {},
   "source": [
    "##### Capitalisation boursière = Cours actuel x Offre en circulation\n",
    "\n",
    "##### Désigne la valeur marchande totale de l’offre en circulation d’une crypto-monnaie. Semblable à la mesure du marché boursier  qui multiplie le cours par action par les actions facilement disponibles sur le marché (non détenues ni bloquées par des  initiés, des gouvernements)."
   ]
  },
  {
   "cell_type": "code",
   "execution_count": 7,
   "id": "8864a42e",
   "metadata": {},
   "outputs": [],
   "source": [
    "## REQUEST\n",
    "#Obtenir le prix actuel de toutes les crypto-monnaies dans toutes les autres devises prises en charge dont vous avez besoin.\n",
    "\n",
    "response_5 = requests.get(\"https://api.coingecko.com/api/v3/simple/price?ids=bitcoin%2Clitecoin&vs_currencies=eur%2Cusd&include_market_cap=true&include_24hr_vol=true&include_24hr_change=true&include_last_updated_at=true&precision=2\")\n",
    "simple_price = response_5.json()\n",
    "\n",
    "\n",
    "#print(simple_price)\n",
    "#print(simple_price[\"bitcoin\"][\"eur_market_cap\"])\n"
   ]
  },
  {
   "cell_type": "code",
   "execution_count": 8,
   "id": "63eae9cf",
   "metadata": {},
   "outputs": [],
   "source": [
    "## PARSE\n",
    "\n",
    "def parse_api_coingecko(simple_price):\n",
    "    for dict in simple_price[\"bitcoin\"]:\n",
    "        eur = simple_price[\"bitcoin\"][\"eur\"]\n",
    "        eur_market_cap = simple_price[\"bitcoin\"][\"eur_market_cap\"]\n",
    "        eur_24h_vol = simple_price[\"bitcoin\"][\"eur_24h_vol\"]\n",
    "        eur_24h_change = simple_price[\"bitcoin\"][\"eur_24h_change\"]\n",
    "        usd = simple_price[\"bitcoin\"][\"usd\"]\n",
    "        usd_market_cap = simple_price[\"bitcoin\"][\"usd_market_cap\"]\n",
    "        usd_24h_vol = simple_price[\"bitcoin\"][\"usd_24h_vol\"]\n",
    "        usd_24h_change = simple_price[\"bitcoin\"][\"usd_24h_change\"]\n",
    "        last_updated_at = simple_price[\"bitcoin\"][\"last_updated_at\"]\n",
    "        print('euro:',eur,\"\\n\"'dollar:',usd,\"\\n\"'capitalisation boursiere €:',eur_market_cap,\"\\n\"'Volume de négociation sur 24 h:',eur_24h_vol,\"\\n\"'derniere Maj Prix:',last_updated_at)\n",
    "        return eur, usd, eur_market_cap, eur_24h_vol\n",
    "\n",
    "\n"
   ]
  },
  {
   "cell_type": "code",
   "execution_count": 9,
   "id": "7ab9ec84",
   "metadata": {},
   "outputs": [
    {
     "name": "stdout",
     "output_type": "stream",
     "text": [
      "euro: 24036.23 \n",
      "dollar: 25978.37 \n",
      "capitalisation boursiere €: 467860561363.9191 \n",
      "Volume de négociation sur 24 h: 13972244769.263506 \n",
      "derniere Maj Prix: 1692786843\n"
     ]
    },
    {
     "data": {
      "text/plain": [
       "(24036.23, 25978.37, 467860561363.9191, 13972244769.263506)"
      ]
     },
     "execution_count": 9,
     "metadata": {},
     "output_type": "execute_result"
    }
   ],
   "source": [
    "\n",
    "parse_api_coingecko(simple_price)\n"
   ]
  },
  {
   "cell_type": "code",
   "execution_count": null,
   "id": "87ab4452",
   "metadata": {},
   "outputs": [],
   "source": [
    "## BDD\n",
    "#création de la Bdd SQLite si existe + création de la connexion\n",
    "conn = sqlite3.connect(\"ProjectBTC.db\")\n",
    "cur = conn.cursor()"
   ]
  },
  {
   "cell_type": "code",
   "execution_count": null,
   "id": "4b050832",
   "metadata": {},
   "outputs": [],
   "source": [
    "## Bdd ajout colonne \n",
    "#req_1 = \"\"\"ALTER TABLE btc ADD COLUMN eur_market_cap INTEGER\"\"\"\n",
    "req_1 = \"\"\"ALTER TABLE btc ADD COLUMN eur_24h_vol INTEGER\"\"\"\n",
    "# Exécution de la requete \n",
    "cur.execute(req_1) \n",
    "# Envoyer la requete \n",
    "conn.commit() \n",
    "# Fermer la connexion \n",
    "conn.close()"
   ]
  },
  {
   "cell_type": "code",
   "execution_count": null,
   "id": "cb1052f4",
   "metadata": {},
   "outputs": [],
   "source": [
    "## BDD\n",
    "# requete création table si n'existe pas\n",
    "req = \"\"\"CREATE TABLE IF NOT EXISTS btc(\n",
    "    id INTEGER PRIMARY KEY AUTOINCREMENT, \n",
    "    eur INTEGER NOT NULL, \n",
    "    usd INTEGER NOT NULL,    \n",
    "    last_update INTEGER NOT NULL,\n",
    "    eur_market_cap INTEGER NOT NULL,\n",
    "    eur_24h_vol INTEGER NOT NULL)\"\"\" \n",
    "# Exécution de la requete \n",
    "cur.execute(req) \n",
    "# Envoyer la requete \n",
    "conn.commit() \n",
    "# Fermer la connexion \n",
    "conn.close()"
   ]
  },
  {
   "cell_type": "code",
   "execution_count": 10,
   "id": "766fd1fd",
   "metadata": {},
   "outputs": [
    {
     "ename": "NameError",
     "evalue": "name 'last_updated_at' is not defined",
     "output_type": "error",
     "traceback": [
      "\u001b[1;31m---------------------------------------------------------------------------\u001b[0m",
      "\u001b[1;31mNameError\u001b[0m                                 Traceback (most recent call last)",
      "Cell \u001b[1;32mIn[10], line 2\u001b[0m\n\u001b[0;32m      1\u001b[0m \u001b[38;5;66;03m## Transformation = TIME\u001b[39;00m\n\u001b[1;32m----> 2\u001b[0m last_updated_1 \u001b[38;5;241m=\u001b[39m time\u001b[38;5;241m.\u001b[39mstrftime(\u001b[38;5;124m\"\u001b[39m\u001b[38;5;124m%\u001b[39m\u001b[38;5;124mY-\u001b[39m\u001b[38;5;124m%\u001b[39m\u001b[38;5;124mm-\u001b[39m\u001b[38;5;132;01m%d\u001b[39;00m\u001b[38;5;124m \u001b[39m\u001b[38;5;124m%\u001b[39m\u001b[38;5;124mH:\u001b[39m\u001b[38;5;124m%\u001b[39m\u001b[38;5;124mM:\u001b[39m\u001b[38;5;124m%\u001b[39m\u001b[38;5;124mS\u001b[39m\u001b[38;5;124m\"\u001b[39m, time\u001b[38;5;241m.\u001b[39mgmtime(\u001b[43mlast_updated_at\u001b[49m))\n\u001b[0;32m      3\u001b[0m \u001b[38;5;28mprint\u001b[39m(last_updated_1 )\n",
      "\u001b[1;31mNameError\u001b[0m: name 'last_updated_at' is not defined"
     ]
    }
   ],
   "source": [
    "## Transformation = TIME\n",
    "last_updated_1 = time.strftime(\"%Y-%m-%d %H:%M:%S\", time.gmtime(last_updated_at))\n",
    "print(last_updated_1 )"
   ]
  },
  {
   "cell_type": "code",
   "execution_count": null,
   "id": "0adf3266",
   "metadata": {},
   "outputs": [],
   "source": [
    "## INSERT\n",
    "conn = sqlite3.connect(\"ProjectBTC.db\")\n",
    "cur = conn.cursor()\n",
    "req1 = 'INSERT INTO btc(eur,usd,last_update,eur_market_cap,eur_24h_vol) VALUES(?,?,?,?,?)'\n",
    "val1 = (eur,usd,last_updated_1,eur_market_cap,eur_24h_vol)\n",
    "cur.execute(req1,val1)\n",
    "conn.commit() \n",
    "cur.close()"
   ]
  },
  {
   "cell_type": "code",
   "execution_count": null,
   "id": "a0bfcde9",
   "metadata": {},
   "outputs": [],
   "source": [
    "## UPDATE unixepoch line\n",
    "\n",
    "#conn = sqlite3.connect(\"ProjectBTC.db\")\n",
    "#cur = connexion.cursor()\n",
    "#req2 = 'update btc set last_update = datetime(last_update, 'unixepoch', 'localtime') where last_update like '16%';'\n",
    "\n",
    "#cur.execute(req2)\n",
    "\n",
    "#cur.close()"
   ]
  },
  {
   "cell_type": "code",
   "execution_count": null,
   "id": "f1dbf036",
   "metadata": {},
   "outputs": [],
   "source": [
    "## PRINT\n",
    "cur = conn.cursor()\n",
    "# cur.execute(\"select * from btc\")\n",
    "cur.execute(\"select eur,usd,last_update,eur_market_cap,eur_24h_vol from btc order by last_update DESC limit(10)\")\n",
    "records = cur.fetchall()\n",
    "\n",
    "print(records[0])"
   ]
  },
  {
   "cell_type": "code",
   "execution_count": null,
   "id": "a973b611",
   "metadata": {},
   "outputs": [],
   "source": [
    "#DATAFRAME\n",
    "\n",
    "df_btc = pd.read_sql('select eur,usd,last_update,eur_market_cap,eur_24h_vol from btc order by last_update',conn,)\n",
    "#df_btc = pd.read_sql('''select eur,usd,last_update from btc where last_update like '2023-08-17%' ''',conn,)\n",
    "#df_btc = pd.read_sql('select eur,usd,last_update from btc order by last_update DESC limit(10)',conn,)\n",
    "df_btc"
   ]
  },
  {
   "cell_type": "code",
   "execution_count": null,
   "id": "d08a31a9",
   "metadata": {},
   "outputs": [],
   "source": [
    "# DETECTION DE DOUBLON\n",
    "df_btc_doublon = pd.read_sql('''SELECT COUNT(*) AS nbr_doublon, eur,last_update,eur_market_cap FROM btc  where last_update like '2023-08-05%' GROUP BY last_update HAVING COUNT(*) > 1 ''',conn,)\n",
    "df_btc_doublon\n"
   ]
  },
  {
   "cell_type": "code",
   "execution_count": null,
   "id": "46d37ab7",
   "metadata": {},
   "outputs": [],
   "source": [
    "# SUPPRESSION DE DOUBLON => df_btc\n",
    "df_btc_no_duplicated = df_btc.drop_duplicates()\n",
    "df_btc_no_duplicated"
   ]
  },
  {
   "cell_type": "code",
   "execution_count": null,
   "id": "76be99ed",
   "metadata": {},
   "outputs": [],
   "source": [
    "df_btc_no_duplicated.duplicated()"
   ]
  },
  {
   "cell_type": "code",
   "execution_count": null,
   "id": "d2476eb1",
   "metadata": {},
   "outputs": [],
   "source": [
    "print(df_btc_no_duplicated.duplicated().sum())"
   ]
  },
  {
   "cell_type": "code",
   "execution_count": null,
   "id": "ba39d703",
   "metadata": {},
   "outputs": [],
   "source": [
    "# SUPPRESSION COLONNE \n",
    "#df_btc_0 = df_btc.drop(['last_update'],axis=1)\n",
    "#df_btc_0"
   ]
  },
  {
   "cell_type": "code",
   "execution_count": null,
   "id": "b3fc8e8f",
   "metadata": {},
   "outputs": [],
   "source": [
    "## TRANSFORMATION DATAFRAME\n",
    "#df_btc_1 = pd.to_datetime(df_btc['last_update'], format='ISO8601')\n",
    "#df_btc_1"
   ]
  },
  {
   "cell_type": "code",
   "execution_count": null,
   "id": "6aa0d93d",
   "metadata": {},
   "outputs": [],
   "source": [
    "## TRANSFORMATION DATAFRAME\n",
    "# Convert datetype to string\n",
    "\n",
    "#df_btc_1 = df_btc['last_update'].astype(str)"
   ]
  },
  {
   "cell_type": "code",
   "execution_count": null,
   "id": "f8039a6f",
   "metadata": {},
   "outputs": [],
   "source": [
    "## TRANSFORMATION DATAFRAME\n",
    "# concatenation dataframe\n",
    "#df_btc_01 = pd.concat([df_btc_0, df_btc_1],axis=1)\n",
    "#df_btc_01"
   ]
  },
  {
   "cell_type": "code",
   "execution_count": null,
   "id": "0fa41b4f",
   "metadata": {},
   "outputs": [],
   "source": [
    "## VISUALISATION\n",
    "\n",
    "import numpy as np\n",
    "import matplotlib.pyplot as plt\n",
    "import matplotlib.cm as cm\n",
    "import plotly.graph_objects as go\n",
    "import plotly.express as px\n",
    "\n",
    "#%matplotlib inline\n",
    "\n",
    "#plt.figure(figsize=(15,6))\n",
    "\n",
    "#x = df_btc[\"last_update\"]\n",
    "#y = df_btc[\"eur\"]  \n",
    "      \n",
    "#plt.plot(x, \n",
    " #        y,\n",
    " #        linewidth = 4)\n",
    "\n",
    "#plt.title('Evolution du prix du Bitcoin en €')\n",
    "#plt.xlabel('Date')\n",
    "#plt.xticks(rotation = 45)\n",
    "#plt.ylabel('Prix du Bitcoin (en euros et en dollar')\n",
    "\n"
   ]
  },
  {
   "cell_type": "code",
   "execution_count": null,
   "id": "9e25a43c",
   "metadata": {},
   "outputs": [],
   "source": [
    "## VISUALISATION\n",
    "\n",
    "#import numpy as np\n",
    "#import matplotlib.pyplot as plt\n",
    "#import matplotlib.cm as cm\n",
    "#import plotly.graph_objects as go\n",
    "#import plotly.express as px\n",
    "#from plotly.subplots import make_subplots\n",
    "\n",
    "#x = df_btc[\"last_update\"]\n",
    "#y = df_btc[\"eur\"]  \n",
    "\n",
    "#y1 = df_btc[\"usd\"]\n",
    "\n",
    "#fig1 = px.line(df_btc, x=x, y=y1)\n",
    "#fig1.update_layout(legend_title_text = \"Evolution du prix du Bitcoin en $\")\n",
    "#fig1.update_xaxes(title_text=\"Last Update\")\n",
    "#fig1.update_yaxes(title_text=\"btc dollar\")\n",
    "\n",
    "#fig.show()\n",
    "#fig1.show()"
   ]
  },
  {
   "cell_type": "code",
   "execution_count": null,
   "id": "2a859206",
   "metadata": {},
   "outputs": [],
   "source": [
    "from plotly.subplots import make_subplots\n",
    "import plotly.graph_objects as go\n",
    "\n",
    "fig = make_subplots(\n",
    "    rows=4, cols=1,\n",
    "    subplot_titles=(\"BTC euro\", \"BTC dollar\",\"Capitalisation boursière\",\"volume d'échange eur 24h\"))\n",
    "\n",
    "# Update xaxis properties\n",
    "fig.update_xaxes(title_text=\"Last update\", row=1, col=1)\n",
    "# Update yaxis properties\n",
    "fig.update_yaxes(title_text=\"euro\", row=1, col=1)\n",
    "\n",
    "# Update xaxis properties\n",
    "fig.update_xaxes(title_text=\"Last update\", row=2, col=1)\n",
    "# Update yaxis properties\n",
    "fig.update_yaxes(title_text=\"dollar\", row=2, col=1)\n",
    "\n",
    "# Update xaxis properties\n",
    "fig.update_xaxes(title_text=\"Last update\", row=2, col=1)\n",
    "# Update yaxis properties\n",
    "fig.update_yaxes(title_text=\"eur_market_cap\", row=2, col=1)\n",
    "\n",
    "# Update xaxis properties\n",
    "fig.update_xaxes(title_text=\"Last update\", row=2, col=1)\n",
    "# Update yaxis properties\n",
    "fig.update_yaxes(title_text=\"eur_24h_vol\", row=2, col=1)\n",
    "\n",
    "fig.append_trace(go.Scatter(\n",
    "x = df_btc_no_duplicated[\"last_update\"],\n",
    "y = df_btc_no_duplicated[\"eur\"],\n",
    "name=\"cours BTC euro\"\n",
    "), row=1, col=1)\n",
    "\n",
    "fig.append_trace(go.Scatter(\n",
    "x = df_btc_no_duplicated[\"last_update\"],\n",
    "y = df_btc_no_duplicated[\"usd\"],\n",
    "name=\"cours BTC dollar\"\n",
    "), row=2, col=1)\n",
    "\n",
    "fig.append_trace(go.Scatter(\n",
    "x = df_btc_no_duplicated[\"last_update\"],\n",
    "y = df_btc_no_duplicated[\"eur_market_cap\"],\n",
    "name=\"capitalisation boursière\"\n",
    "), row=3, col=1)\n",
    "\n",
    "fig.append_trace(go.Scatter(\n",
    "x = df_btc_no_duplicated[\"last_update\"],\n",
    "y = df_btc_no_duplicated[\"eur_24h_vol\"],\n",
    "name=\"Volume de négociation sur 24 h\"\n",
    "), row=4, col=1)\n",
    "\n",
    "fig.update_traces(mode=\"markers+lines\", hovertemplate=None)\n",
    "fig.update_layout(height=1200, width=1000, title_text=\"Evolution du cours du Bitcoin\", hovermode = \"x unified\" )\n",
    "fig.show()"
   ]
  },
  {
   "cell_type": "code",
   "execution_count": null,
   "id": "76b6f9d1",
   "metadata": {},
   "outputs": [],
   "source": []
  }
 ],
 "metadata": {
  "kernelspec": {
   "display_name": "Python 3 (ipykernel)",
   "language": "python",
   "name": "python3"
  },
  "language_info": {
   "codemirror_mode": {
    "name": "ipython",
    "version": 3
   },
   "file_extension": ".py",
   "mimetype": "text/x-python",
   "name": "python",
   "nbconvert_exporter": "python",
   "pygments_lexer": "ipython3",
   "version": "3.10.10"
  }
 },
 "nbformat": 4,
 "nbformat_minor": 5
}
