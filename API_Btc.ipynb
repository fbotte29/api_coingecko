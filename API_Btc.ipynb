{
 "cells": [
  {
   "cell_type": "code",
   "execution_count": 4,
   "id": "04f89a6b",
   "metadata": {},
   "outputs": [
    {
     "name": "stdout",
     "output_type": "stream",
     "text": [
      "<Response [200]>\n"
     ]
    },
    {
     "data": {
      "text/plain": [
       "'{\"gecko_says\":\"(V3) To the Moon!\"}'"
      ]
     },
     "execution_count": 4,
     "metadata": {},
     "output_type": "execute_result"
    }
   ],
   "source": [
    "import json\n",
    "import requests\n",
    "import pandas as pd\n",
    "\n",
    "#Vérification l'état du serveur API\n",
    "response_1 = requests.get(\"https://api.coingecko.com/api/v3/ping\")\n",
    "print(response_1)\n",
    "response_1.text"
   ]
  },
  {
   "cell_type": "code",
   "execution_count": null,
   "id": "a2487107",
   "metadata": {},
   "outputs": [],
   "source": [
    "#Répertorier tous les identifiants, noms et symboles des pièces prises en charge (aucune pagination requise)\n",
    "response_2 = requests.get(\"https://api.coingecko.com/api/v3/coins/list\")\n",
    "#print(response_2)\n",
    "list_coin = response_2.json()"
   ]
  },
  {
   "cell_type": "code",
   "execution_count": null,
   "id": "547d380d",
   "metadata": {},
   "outputs": [],
   "source": [
    "for dict in list_coin:\n",
    "    if dict['id']=='litecoin':\n",
    "        print (dict)"
   ]
  },
  {
   "cell_type": "code",
   "execution_count": null,
   "id": "bf8ec35b",
   "metadata": {},
   "outputs": [],
   "source": [
    "for dict in list_coin:\n",
    "    if dict['id']=='bitcoin':\n",
    "        print (dict)"
   ]
  },
  {
   "cell_type": "code",
   "execution_count": null,
   "id": "bfb15397",
   "metadata": {},
   "outputs": [],
   "source": [
    "#Obtenir des données actuelles (nom, prix, marché, ... y compris les symboles d'échange) pour bitcoin\n",
    "response_3 = requests.get(\"https://api.coingecko.com/api/v3/coins/bitcoin?localization=fr&tickers=true&market_data=true&community_data=true&developer_data=true&sparkline=true\")\n",
    "#print(response_2)\n",
    "price_coin = response_3.json()"
   ]
  },
  {
   "cell_type": "code",
   "execution_count": null,
   "id": "210007cf",
   "metadata": {},
   "outputs": [],
   "source": []
  },
  {
   "cell_type": "code",
   "execution_count": null,
   "id": "449046cb",
   "metadata": {},
   "outputs": [],
   "source": [
    "#Obtenez des données actuelles (nom, prix, marché, ... y compris les symboles d'échange) pour litecoin\n",
    "response_3 = requests.get(\"https://api.coingecko.com/api/v3/coins/litecoin?localization=fr&tickers=true&market_data=true&community_data=true&developer_data=true&sparkline=true\")\n",
    "#print(response_2)\n",
    "price_coin = response_3.json()"
   ]
  },
  {
   "cell_type": "code",
   "execution_count": null,
   "id": "dc4b61b2",
   "metadata": {},
   "outputs": [],
   "source": [
    "print(price_coin)"
   ]
  },
  {
   "cell_type": "code",
   "execution_count": null,
   "id": "0bf769a4",
   "metadata": {},
   "outputs": [],
   "source": [
    "for dict in price_coin[\"market_data\"][\"current_price\"]:\n",
    "    #print(dict)"
   ]
  },
  {
   "cell_type": "code",
   "execution_count": null,
   "id": "33823d45",
   "metadata": {},
   "outputs": [],
   "source": [
    "print(price_coin[\"description\"][\"en\"])"
   ]
  },
  {
   "cell_type": "code",
   "execution_count": null,
   "id": "28591ab7",
   "metadata": {},
   "outputs": [],
   "source": [
    "print(price_coin[\"id\"],price_coin[\"symbol\"])"
   ]
  },
  {
   "cell_type": "code",
   "execution_count": null,
   "id": "1beb0155",
   "metadata": {},
   "outputs": [],
   "source": [
    "print(price_coin[\"market_data\"][\"current_price\"][\"eur\"])"
   ]
  },
  {
   "cell_type": "code",
   "execution_count": null,
   "id": "5955aede",
   "metadata": {},
   "outputs": [],
   "source": [
    "print(price_coin[\"market_data\"][\"current_price\"][\"usd\"])"
   ]
  },
  {
   "cell_type": "code",
   "execution_count": null,
   "id": "205721ac",
   "metadata": {},
   "outputs": [],
   "source": [
    "#taux de change BTC-devise\n",
    "response_4 = requests.get(\"https://api.coingecko.com/api/v3/exchange_rates\")\n",
    "#print(response_2)\n",
    "exchange_rates = response_4.json()\n",
    "#print(exchange_rates)"
   ]
  },
  {
   "cell_type": "code",
   "execution_count": null,
   "id": "ad46b4d5",
   "metadata": {},
   "outputs": [],
   "source": [
    "print(exchange_rates[\"rates\"][\"eur\"])"
   ]
  },
  {
   "cell_type": "code",
   "execution_count": 30,
   "id": "e7481663",
   "metadata": {},
   "outputs": [
    {
     "name": "stdout",
     "output_type": "stream",
     "text": [
      "euro: 26767.79 capitalisation boursiere: 520205938561.1824\n"
     ]
    }
   ],
   "source": [
    "#Obtenir le prix actuel de toutes les crypto-monnaies dans toutes les autres devises prises en charge dont vous avez besoin.\n",
    "response_5 = requests.get(\"https://api.coingecko.com/api/v3/simple/price?ids=bitcoin%2Clitecoin&vs_currencies=eur%2Cusd&include_market_cap=true&include_24hr_vol=true&include_24hr_change=true&include_last_updated_at=true&precision=2\")\n",
    "simple_price = response_5.json()\n",
    "#print(simple_price)\n",
    "#print(simple_price[\"bitcoin\"][\"eur_market_cap\"])\n",
    "for dict in simple_price[\"bitcoin\"]:\n",
    "    eur = simple_price[\"bitcoin\"][\"eur\"]\n",
    "    eur_market_cap = simple_price[\"bitcoin\"][\"eur_market_cap\"]\n",
    "    eur_24h_vol = simple_price[\"bitcoin\"][\"eur_24h_vol\"]\n",
    "    eur_24h_change = simple_price[\"bitcoin\"][\"eur_24h_change\"]\n",
    "    usd = simple_price[\"bitcoin\"][\"usd\"]\n",
    "    usd_market_cap = simple_price[\"bitcoin\"][\"usd_market_cap\"]\n",
    "    usd_24h_vol = simple_price[\"bitcoin\"][\"usd_24h_vol\"]\n",
    "    usd_24h_change = simple_price[\"bitcoin\"][\"usd_24h_change\"]\n",
    "    last_updated_at = simple_price[\"bitcoin\"][\"last_updated_at\"]\n",
    "print('euro:',eur,'capitalisation boursiere:',eur_market_cap)"
   ]
  },
  {
   "cell_type": "code",
   "execution_count": 7,
   "id": "50f5e3fc",
   "metadata": {},
   "outputs": [
    {
     "ename": "SyntaxError",
     "evalue": "invalid syntax (3129988806.py, line 4)",
     "output_type": "error",
     "traceback": [
      "\u001b[1;36m  Cell \u001b[1;32mIn[7], line 4\u001b[1;36m\u001b[0m\n\u001b[1;33m    bdd_sql = simple_price[]\u001b[0m\n\u001b[1;37m                           ^\u001b[0m\n\u001b[1;31mSyntaxError\u001b[0m\u001b[1;31m:\u001b[0m invalid syntax\n"
     ]
    }
   ],
   "source": [
    "import requests, sqlite3\n",
    "database = sqlite3.connect(\"ProjectBTC.db\")\n",
    "cur = database.cursor()\n",
    "bdd_sql = simple_price[]"
   ]
  },
  {
   "cell_type": "code",
   "execution_count": null,
   "id": "b8aa3164",
   "metadata": {},
   "outputs": [],
   "source": []
  }
 ],
 "metadata": {
  "kernelspec": {
   "display_name": "Python 3 (ipykernel)",
   "language": "python",
   "name": "python3"
  },
  "language_info": {
   "codemirror_mode": {
    "name": "ipython",
    "version": 3
   },
   "file_extension": ".py",
   "mimetype": "text/x-python",
   "name": "python",
   "nbconvert_exporter": "python",
   "pygments_lexer": "ipython3",
   "version": "3.10.10"
  }
 },
 "nbformat": 4,
 "nbformat_minor": 5
}
