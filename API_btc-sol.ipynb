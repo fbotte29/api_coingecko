{
 "cells": [
  {
   "cell_type": "code",
   "execution_count": 94,
   "id": "65a1f4ee",
   "metadata": {},
   "outputs": [
    {
     "name": "stdout",
     "output_type": "stream",
     "text": [
      "['CLOCK_BOOTTIME', 'CLOCK_MONOTONIC', 'CLOCK_MONOTONIC_RAW', 'CLOCK_PROCESS_CPUTIME_ID', 'CLOCK_REALTIME', 'CLOCK_TAI', 'CLOCK_THREAD_CPUTIME_ID', '_STRUCT_TM_ITEMS', '__doc__', '__loader__', '__name__', '__package__', '__spec__', 'altzone', 'asctime', 'clock_getres', 'clock_gettime', 'clock_gettime_ns', 'clock_settime', 'clock_settime_ns', 'ctime', 'daylight', 'get_clock_info', 'gmtime', 'localtime', 'mktime', 'monotonic', 'monotonic_ns', 'perf_counter', 'perf_counter_ns', 'process_time', 'process_time_ns', 'pthread_getcpuclockid', 'sleep', 'strftime', 'strptime', 'struct_time', 'thread_time', 'thread_time_ns', 'time', 'time_ns', 'timezone', 'tzname', 'tzset']\n"
     ]
    }
   ],
   "source": [
    "import json\n",
    "import time\n",
    "import requests\n",
    "import sqlite3\n",
    "import pandas as pd\n",
    "import logging\n",
    "\n",
    "print(dir(time))"
   ]
  },
  {
   "cell_type": "code",
   "execution_count": 92,
   "id": "3357877e",
   "metadata": {},
   "outputs": [],
   "source": [
    "logging.basicConfig(filename='error.log' , encoding='utf-8', level=logging.INFO)\n",
    "#logging.basicConfig(filename='example.log', encoding='utf-8', level=logging.DEBUG)"
   ]
  },
  {
   "cell_type": "code",
   "execution_count": 63,
   "id": "6be05130",
   "metadata": {},
   "outputs": [
    {
     "name": "stdout",
     "output_type": "stream",
     "text": [
      "{'bitcoin': {'eur': 34534.14, 'eur_market_cap': 674578142010.4158, 'eur_24h_vol': 6838783055.220133, 'eur_24h_change': 0.06090362396510624, 'usd': 37813.69, 'usd_market_cap': 738639617386.7498, 'usd_24h_vol': 7488229731.613208, 'usd_24h_change': 0.09147175994123816, 'last_updated_at': 1700986843}, 'solana': {'eur': 53.33, 'eur_market_cap': 22534026244.051422, 'eur_24h_vol': 729782021.6462247, 'eur_24h_change': -0.5216935863091432, 'usd': 58.39, 'usd_market_cap': 24673975461.8853, 'usd_24h_vol': 799085946.7192367, 'usd_24h_change': -0.49130343104397944, 'last_updated_at': 1700986840}}\n"
     ]
    }
   ],
   "source": [
    "## REQUEST\n",
    "#Obtenir le prix actuel de toutes les crypto-monnaies dans toutes les autres devises prises en charge dont vous avez besoin.\n",
    "logging.info('Started')\n",
    "try:\n",
    "    #response_5 = requests.get(\"https://api.coingecko.com/api/v3/simple/price?ids=bitcoin%2Csolana&vs_currencies=eur%2Cusd&include_market_cap=true&include_24hr_vol=true&include_24hr_change=true&include_last_updated_at=true&precision=2\")\n",
    "    response_5 = requests.get(\"https://api.coingecko.com/api/v3/simple/price?ids=bitcoin%2Csolana&vs_currencies=eur%2Cusd&include_market_cap=true&include_24hr_vol=true&include_24hr_change=true&include_last_updated_at=true&precision=2\")\n",
    "    simple_price = response_5.json()\n",
    "    print(simple_price)\n",
    "except requests.exceptions.ConnectionError as e:\n",
    "    print(\"Une erreur de connexion s'est produite. Veuillez vérifier votre connexion Internet..\")\n",
    "    logging.error(\"Une erreur de connexion s'est produite. Veuillez vérifier votre connexion Internet.. %s\", e)\n",
    "except requests.exceptions.Timeout as e:\n",
    "    print(\"La requête a expiré..\")\n",
    "    logging.error(\"An error occurred: %s\", e)\n",
    "except requests.exceptions.HTTPError as e:\n",
    "    print(\"Erreur HTTP:\", e)\n",
    "    logging.error(\"An error occurred: %s\", e)\n",
    "except requests.exceptions.RequestException as e:\n",
    "    print(\"Une erreur s'est produite:\", e)\n",
    "    logging.error(\"Une erreur s'est produite: %s\", e)\n",
    "logging.info('Finished')    \n",
    "#print(simple_price[\"bitcoin\"][\"eur_market_cap\"])"
   ]
  },
  {
   "cell_type": "code",
   "execution_count": 87,
   "id": "76b4c1cc",
   "metadata": {},
   "outputs": [],
   "source": [
    "## PARSE\n",
    "try: \n",
    "    for dict in simple_price[\"bitcoin\"]:\n",
    "        eur = simple_price[\"bitcoin\"][\"eur\"]\n",
    "        eur_market_cap = simple_price[\"bitcoin\"][\"eur_market_cap\"]\n",
    "        eur_24h_vol = simple_price[\"bitcoin\"][\"eur_24h_vol\"]\n",
    "        eur_24h_change = simple_price[\"bitcoin\"][\"eur_24h_change\"]\n",
    "        usd = simple_price[\"bitcoin\"][\"usd\"]\n",
    "        usd_market_cap = simple_price[\"bitcoin\"][\"usd_market_cap\"]\n",
    "        usd_24h_vol = simple_price[\"bitcoin\"][\"usd_24h_vol\"]\n",
    "        usd_24h_change = simple_price[\"bitcoin\"][\"usd_24h_change\"]\n",
    "        last_updated_at = simple_price[\"bitcoin\"][\"last_updated_at\"]\n",
    "        \n",
    "        sol_eur = simple_price[\"solana\"][\"eur\"]\n",
    "        sol_eur_market_cap = simple_price[\"solana\"][\"eur_market_cap\"]\n",
    "        sol_eur_24h_vol = simple_price[\"solana\"][\"eur_24h_vol\"]\n",
    "        sol_eur_24h_change = simple_price[\"solana\"][\"eur_24h_change\"]\n",
    "        sol_usd = simple_price[\"solana\"][\"usd\"]\n",
    "        sol_usd_market_cap = simple_price[\"solana\"][\"usd_market_cap\"]\n",
    "        sol_usd_24h_vol = simple_price[\"solana\"][\"usd_24h_vol\"]\n",
    "        sol_usd_24h_change = simple_price[\"solana\"][\"usd_24h_change\"]\n",
    "        sol_last_updated_at = simple_price[\"solana\"][\"last_updated_at\"]\n",
    "except NameError as e:\n",
    "    print(f\"Nom de variable non définie: {e}\")\n",
    "except KeyError as g:\n",
    "    print(f\"Nom de la clé incorrect: {g}\")\n",
    "except SyntaxError as h:\n",
    "    print(f\"Erreur de syntaxe: {h}\")"
   ]
  },
  {
   "cell_type": "code",
   "execution_count": 65,
   "id": "12e9972a",
   "metadata": {},
   "outputs": [
    {
     "name": "stdout",
     "output_type": "stream",
     "text": [
      "euro: 34534.14 \n",
      "dollar: 37813.69 \n",
      "capitalisation boursiere €: 674578142010.4158 \n",
      "Volume de négociation sur 24 h: 6838783055.220133 \n",
      "derniere Maj Prix: 1700986843\n",
      "\n",
      "\n",
      "sol_euro: 53.33 \n",
      "sol_dollar: 58.39 \n",
      "capitalisation boursiere €: 22534026244.051422 \n",
      "Volume de négociation sur 24 h: 729782021.6462247 \n",
      "derniere Maj Prix: 1700986840\n",
      "\n",
      "\n"
     ]
    }
   ],
   "source": [
    "print('euro:',eur,\"\\n\"'dollar:',usd,\"\\n\"'capitalisation boursiere €:',eur_market_cap,\"\\n\"'Volume de négociation sur 24 h:',eur_24h_vol,\"\\n\"'derniere Maj Prix:',last_updated_at)\n",
    "# print(type(last_updated_at))\n",
    "print(\"\\n\")\n",
    "print('sol_euro:',sol_eur,\"\\n\"'sol_dollar:',sol_usd,\"\\n\"'capitalisation boursiere €:',sol_eur_market_cap,\"\\n\"'Volume de négociation sur 24 h:',sol_eur_24h_vol,\"\\n\"'derniere Maj Prix:',sol_last_updated_at)\n",
    "print(\"\\n\")"
   ]
  },
  {
   "cell_type": "code",
   "execution_count": null,
   "id": "5779e3e4",
   "metadata": {},
   "outputs": [],
   "source": []
  }
 ],
 "metadata": {
  "kernelspec": {
   "display_name": "Python 3 (ipykernel)",
   "language": "python",
   "name": "python3"
  },
  "language_info": {
   "codemirror_mode": {
    "name": "ipython",
    "version": 3
   },
   "file_extension": ".py",
   "mimetype": "text/x-python",
   "name": "python",
   "nbconvert_exporter": "python",
   "pygments_lexer": "ipython3",
   "version": "3.11.5"
  }
 },
 "nbformat": 4,
 "nbformat_minor": 5
}
