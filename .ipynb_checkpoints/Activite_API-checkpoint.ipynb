{
 "cells": [
  {
   "cell_type": "markdown",
   "metadata": {},
   "source": [
    "# Application Programming Interface (API)"
   ]
  },
  {
   "cell_type": "markdown",
   "metadata": {},
   "source": [
    "## Recherche d'informations\n",
    "\n",
    "- A quoi sert une API ?\n",
    "\n",
    "\n",
    "- A quelle(s) étape(s) du workflow des données peut-on utiliser une API ?\n",
    "\n",
    "\n",
    "- Quelles sont les informations nécessaires pour utiliser une API ?\n",
    "\n",
    "\n",
    "- Trouver des exemples d'API\n",
    "\n",
    "\n",
    "- Comment appeler une API en lignes de commandes ?\n",
    "\n",
    "\n",
    "- Comment appeler une API en Python ?\n",
    "\n"
   ]
  },
  {
   "cell_type": "markdown",
   "metadata": {},
   "source": [
    "## Mise en application\n",
    "\n",
    "![schéma](https://s3-eu-west-1.amazonaws.com/sdz-upload/prod/upload/api-remimercier.png)\n",
    "\n",
    "L'objectif de la mise en application est de récupérer des données issues de l'open-data de la mobilité dans l'agglomération grenobloise et de les visualiser. L'url du site est : https://www.mobilites-m.fr/pages/opendata/OpenDataApi.html# . Plus particulièrement, on va travailler avec la partie de l'API nommée \"Description des objets du référentiel à localisation ponctuel\" à l'adresse : https://data.mobilites-m.fr/api/bbox/json . Les données sont retournées au format JSON.\n",
    "\n",
    "**Bibliothèques Python à utiliser :**\n",
    "\n",
    "- json : https://docs.python.org/fr/3/library/json.html\n",
    "\n",
    "\n",
    "- sqlite3 : https://docs.python.org/3/library/sqlite3.html\n",
    "\n",
    "\n",
    "- requests : https://requests.readthedocs.io/en/master/\n",
    "\n",
    "\n",
    "**Information complémentaire :**\n",
    "\n",
    "Il est possible d'éxécuter des commandes bash dans un Jupyter Notebook de la manière suivante : `!curl`"
   ]
  },
  {
   "cell_type": "markdown",
   "metadata": {},
   "source": [
    "## 1 - Récupération des données au format JSON"
   ]
  },
  {
   "cell_type": "markdown",
   "metadata": {},
   "source": [
    "- ** EN LIGNES DE COMMANDE ** : Interroger l'API pour ne récupérer que les **Agences Mobilité** du réseau de transport en commun de Grenoble. Créer un fichier \"agences.json\" pour stocker les données"
   ]
  },
  {
   "cell_type": "markdown",
   "metadata": {},
   "source": [
    "- ** EN PYTHON ** : récupérer dans un dictionnaire Python les données des agences mobilité depuis l'API avec la bibliothèque *requests*"
   ]
  },
  {
   "cell_type": "markdown",
   "metadata": {},
   "source": [
    "## 2 - Afficher les horaires des agences"
   ]
  },
  {
   "cell_type": "markdown",
   "metadata": {},
   "source": [
    "- Grâce à un script Python, afficher les horaires des différentes agences mobilité\n",
    "\n",
    "Affichage attendu :\n",
    "```\n",
    "Horaires d'ouverture de l'agence Agence de Mobilité Centre-Ville :\n",
    "\tLundi : 9:00-17:00\n",
    "\tMardi : 9:00-17:00\n",
    "\tMercredi : 9:00-17:00\n",
    "\tJeudi : 9:00-17:00\n",
    "\tVendredi : 9:00-17:00\n",
    "\tSamedi : 9:00-17:00\n",
    "\tDimanche : Fermée\n",
    "\n",
    "Horaires d'ouverture de l'agence Agence de Mobilité StationMobile :\n",
    "\tLundi : 9:00-17:00\n",
    "\tMardi : 9:00-17:00\n",
    "\tMercredi : 9:00-17:00\n",
    "\tJeudi : 9:00-17:00\n",
    "\tVendredi : 9:00-17:00\n",
    "\tSamedi : Fermée\n",
    "\tDimanche : Fermée\n",
    "\n",
    "Horaires d'ouverture de l'agence Agence de Mobilité Grand'Place :\n",
    "\tLundi : 9:00-17:00\n",
    "\tMardi : 9:00-17:00\n",
    "\tMercredi : 9:00-17:00\n",
    "\tJeudi : 9:00-17:00\n",
    "\tVendredi : 9:00-17:00\n",
    "\tSamedi : 9:00-17:00\n",
    "\tDimanche : Fermée\n",
    "\n",
    "Horaires d'ouverture de l'agence Agence de Mobilité TouGo :\n",
    "\tLundi : 9:00-13:00 et 14:00-18:30\n",
    "\tMardi : 9:00-13:00 et 14:00-18:30\n",
    "\tMercredi : 9:00-13:00 et 14:00-18:30\n",
    "\tJeudi : 9:00-13:00 et 14:00-18:30\n",
    "\tVendredi : 9:00-13:00 et 14:00-18:30\n",
    "\tSamedi : 9:00-13:00\n",
    "\tDimanche : Fermée\n",
    "\n",
    "Horaires d'ouverture de l'agence Agence de Mobilité Pays Voironnais :\n",
    "\tLundi : 8:00-12:00 et 14:00-18:00\n",
    "\tMardi : 8:00-12:00 et 14:00-18:00\n",
    "\tMercredi : 8:00-12:00 et 14:00-18:00\n",
    "\tJeudi : 8:00-12:00 et 14:00-18:00\n",
    "\tVendredi : 8:00-12:00 et 14:00-18:00\n",
    "\tSamedi : 9:00-12:00\n",
    "\tDimanche : Fermée\n",
    "```"
   ]
  },
  {
   "cell_type": "markdown",
   "metadata": {},
   "source": [
    "## 3 - Affichage des agences sur une carte"
   ]
  },
  {
   "cell_type": "markdown",
   "metadata": {},
   "source": [
    "- Créer une base de données sqlite avec une table contenant les données de géolocalisation des agences mobilité à l'aide de la bibliothèque Python sqlite3\n",
    "\n",
    "\n",
    "- Afficher les agences sur une carte dans Metabase"
   ]
  }
 ],
 "metadata": {
  "kernelspec": {
   "display_name": "Python 3 (ipykernel)",
   "language": "python",
   "name": "python3"
  },
  "language_info": {
   "codemirror_mode": {
    "name": "ipython",
    "version": 3
   },
   "file_extension": ".py",
   "mimetype": "text/x-python",
   "name": "python",
   "nbconvert_exporter": "python",
   "pygments_lexer": "ipython3",
   "version": "3.10.10"
  }
 },
 "nbformat": 4,
 "nbformat_minor": 2
}
