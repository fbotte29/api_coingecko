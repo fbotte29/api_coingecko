{
 "cells": [
  {
   "cell_type": "code",
   "execution_count": 12,
   "id": "65a1f4ee",
   "metadata": {},
   "outputs": [],
   "source": [
    "import json\n",
    "import time\n",
    "import requests\n",
    "import sqlite3\n",
    "import pandas as pd\n",
    "import logging"
   ]
  },
  {
   "cell_type": "code",
   "execution_count": 13,
   "id": "3357877e",
   "metadata": {},
   "outputs": [],
   "source": [
    "logging.basicConfig(filename='error.log' , encoding='utf-8', level=logging.INFO)\n",
    "#logging.basicConfig(filename='example.log', encoding='utf-8', level=logging.DEBUG)"
   ]
  },
  {
   "cell_type": "code",
   "execution_count": 14,
   "id": "6be05130",
   "metadata": {},
   "outputs": [
    {
     "name": "stdout",
     "output_type": "stream",
     "text": [
      "{'bitcoin': {'eur': 34475.96, 'eur_market_cap': 674161900297.7194, 'eur_24h_vol': 4709918184.924092, 'eur_24h_change': -0.2035426089176673, 'usd': 37738.44, 'usd_market_cap': 737958404354.133, 'usd_24h_vol': 5155621679.080601, 'usd_24h_change': 0.07359998032314038, 'last_updated_at': 1700919697}, 'solana': {'eur': 53.21, 'eur_market_cap': 22452205765.19944, 'eur_24h_vol': 1222195291.4134314, 'eur_24h_change': 0.7291522723686374, 'usd': 58.24, 'usd_market_cap': 24576876761.205715, 'usd_24h_vol': 1337852653.2903826, 'usd_24h_change': 1.008885028446302, 'last_updated_at': 1700919698}}\n"
     ]
    }
   ],
   "source": [
    "## REQUEST\n",
    "#Obtenir le prix actuel de toutes les crypto-monnaies dans toutes les autres devises prises en charge dont vous avez besoin.\n",
    "logging.info('Started')\n",
    "try:\n",
    "    #response_5 = requests.get(\"https://api.coingecko.com/api/v3/simple/price?ids=bitcoin%2Csolana&vs_currencies=eur%2Cusd&include_market_cap=true&include_24hr_vol=true&include_24hr_change=true&include_last_updated_at=true&precision=2\")\n",
    "    response_5 = requests.get(\"https://api.coingecko.com/api/v3/simple/price?ids=bitcoin%2Csolana&vs_currencies=eur%2Cusd&include_market_cap=true&include_24hr_vol=true&include_24hr_change=true&include_last_updated_at=true&precision=2\")\n",
    "    simple_price = response_5.json()\n",
    "    print(simple_price)\n",
    "except requests.exceptions.ConnectionError as e:\n",
    "    print(\"Une erreur de connexion s'est produite. Veuillez vérifier votre connexion Internet..\")\n",
    "    logging.error(\"Une erreur de connexion s'est produite. Veuillez vérifier votre connexion Internet.. %s\", e)\n",
    "except requests.exceptions.Timeout as e:\n",
    "    print(\"La requête a expiré..\")\n",
    "    logging.error(\"An error occurred: %s\", e)\n",
    "except requests.exceptions.HTTPError as e:\n",
    "    print(\"Erreur HTTP:\", e)\n",
    "    logging.error(\"An error occurred: %s\", e)\n",
    "except requests.exceptions.RequestException as e:\n",
    "    print(\"Une erreur s'est produite:\", e)\n",
    "    logging.error(\"Une erreur s'est produite: %s\", e)\n",
    "logging.info('Finished')    \n",
    "#print(simple_price[\"bitcoin\"][\"eur_market_cap\"])"
   ]
  },
  {
   "cell_type": "code",
   "execution_count": 52,
   "id": "76b4c1cc",
   "metadata": {},
   "outputs": [
    {
     "ename": "KeyError",
     "evalue": "'bitcoi'",
     "output_type": "error",
     "traceback": [
      "\u001b[0;31m---------------------------------------------------------------------------\u001b[0m",
      "\u001b[0;31mKeyError\u001b[0m                                  Traceback (most recent call last)",
      "Cell \u001b[0;32mIn[52], line 3\u001b[0m\n\u001b[1;32m      1\u001b[0m \u001b[38;5;66;03m## PARSE\u001b[39;00m\n\u001b[1;32m      2\u001b[0m \u001b[38;5;28;01mtry\u001b[39;00m: \n\u001b[0;32m----> 3\u001b[0m     \u001b[38;5;28;01mfor\u001b[39;00m \u001b[38;5;28mdict\u001b[39m \u001b[38;5;129;01min\u001b[39;00m \u001b[43msimple_price\u001b[49m\u001b[43m[\u001b[49m\u001b[38;5;124;43m\"\u001b[39;49m\u001b[38;5;124;43mbitcoi\u001b[39;49m\u001b[38;5;124;43m\"\u001b[39;49m\u001b[43m]\u001b[49m:\n\u001b[1;32m      4\u001b[0m         eur \u001b[38;5;241m=\u001b[39m simple_price[\u001b[38;5;124m\"\u001b[39m\u001b[38;5;124mbitcoin\u001b[39m\u001b[38;5;124m\"\u001b[39m][\u001b[38;5;124m\"\u001b[39m\u001b[38;5;124meur\u001b[39m\u001b[38;5;124m\"\u001b[39m]\n\u001b[1;32m      5\u001b[0m         eur_market_cap \u001b[38;5;241m=\u001b[39m simple_price[\u001b[38;5;124m\"\u001b[39m\u001b[38;5;124mbitcoin\u001b[39m\u001b[38;5;124m\"\u001b[39m][\u001b[38;5;124m\"\u001b[39m\u001b[38;5;124meur_market_cap\u001b[39m\u001b[38;5;124m\"\u001b[39m]\n",
      "\u001b[0;31mKeyError\u001b[0m: 'bitcoi'"
     ]
    }
   ],
   "source": [
    "## PARSE\n",
    "try: \n",
    "    for dict in simple_price[\"bitcoin\"]:\n",
    "        eur = simple_price[\"bitcoin\"][\"eur\"]\n",
    "        eur_market_cap = simple_price[\"bitcoin\"][\"eur_market_cap\"]\n",
    "        eur_24h_vol = simple_price[\"bitcoin\"][\"eur_24h_vol\"]\n",
    "        eur_24h_change = simple_price[\"bitcoin\"][\"eur_24h_change\"]\n",
    "        usd = simple_price[\"bitcoin\"][\"usd\"]\n",
    "        usd_market_cap = simple_price[\"bitcoin\"][\"usd_market_cap\"]\n",
    "        usd_24h_vol = simple_price[\"bitcoin\"][\"usd_24h_vol\"]\n",
    "        usd_24h_change = simple_price[\"bitcoin\"][\"usd_24h_change\"]\n",
    "        last_updated_at = simple_price[\"bitcoin\"][\"last_updated_at\"]\n",
    "        \n",
    "        sol_eur = simple_price[\"solana\"][\"eur\"]\n",
    "        sol_eur_market_cap = simple_price[\"solana\"][\"eur_market_cap\"]\n",
    "        sol_eur_24h_vol = simple_price[\"solana\"][\"eur_24h_vol\"]\n",
    "        sol_eur_24h_change = simple_price[\"solana\"][\"eur_24h_change\"]\n",
    "        sol_usd = simple_price[\"solana\"][\"usd\"]\n",
    "        sol_usd_market_cap = simple_price[\"solana\"][\"usd_market_cap\"]\n",
    "        sol_usd_24h_vol = simple_price[\"solana\"][\"usd_24h_vol\"]\n",
    "        sol_usd_24h_change = simple_price[\"solana\"][\"usd_24h_change\"]\n",
    "        sol_last_updated_at = simple_price[\"solana\"][\"last_updated_at\"]\n",
    "except ValueError as e:\n",
    "    print(f\"Couldn't convert to integer: {e}\")"
   ]
  },
  {
   "cell_type": "code",
   "execution_count": 40,
   "id": "12e9972a",
   "metadata": {},
   "outputs": [
    {
     "name": "stdout",
     "output_type": "stream",
     "text": [
      "euro: 34475.96 \n",
      "dollar: 37738.44 \n",
      "capitalisation boursiere €: 674161900297.7194 \n",
      "Volume de négociation sur 24 h: 4709918184.924092 \n",
      "derniere Maj Prix: 1700919697\n",
      "\n",
      "\n",
      "sol_euro: 53.21 \n",
      "sol_dollar: 58.24 \n",
      "capitalisation boursiere €: 22452205765.19944 \n",
      "Volume de négociation sur 24 h: 1222195291.4134314 \n",
      "derniere Maj Prix: 1700919698\n",
      "\n",
      "\n"
     ]
    }
   ],
   "source": [
    "print('euro:',eur,\"\\n\"'dollar:',usd,\"\\n\"'capitalisation boursiere €:',eur_market_cap,\"\\n\"'Volume de négociation sur 24 h:',eur_24h_vol,\"\\n\"'derniere Maj Prix:',last_updated_at)\n",
    "# print(type(last_updated_at))\n",
    "print(\"\\n\")\n",
    "print('sol_euro:',sol_eur,\"\\n\"'sol_dollar:',sol_usd,\"\\n\"'capitalisation boursiere €:',sol_eur_market_cap,\"\\n\"'Volume de négociation sur 24 h:',sol_eur_24h_vol,\"\\n\"'derniere Maj Prix:',sol_last_updated_at)\n",
    "print(\"\\n\")"
   ]
  },
  {
   "cell_type": "code",
   "execution_count": null,
   "id": "5779e3e4",
   "metadata": {},
   "outputs": [],
   "source": []
  }
 ],
 "metadata": {
  "kernelspec": {
   "display_name": "Python 3 (ipykernel)",
   "language": "python",
   "name": "python3"
  },
  "language_info": {
   "codemirror_mode": {
    "name": "ipython",
    "version": 3
   },
   "file_extension": ".py",
   "mimetype": "text/x-python",
   "name": "python",
   "nbconvert_exporter": "python",
   "pygments_lexer": "ipython3",
   "version": "3.11.5"
  }
 },
 "nbformat": 4,
 "nbformat_minor": 5
}
