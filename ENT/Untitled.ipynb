{
 "cells": [
  {
   "cell_type": "code",
   "execution_count": 9,
   "id": "e8cf8faa-7480-4f2d-b2a3-b6e1a44542b0",
   "metadata": {},
   "outputs": [],
   "source": [
    "import pronotepy\n",
    "from pronotepy.ent import ent_auvergnerhonealpe"
   ]
  },
  {
   "cell_type": "code",
   "execution_count": 29,
   "id": "5cb01b9c-1fc1-4679-bbaa-0b88c753f52d",
   "metadata": {},
   "outputs": [
    {
     "ename": "SyntaxError",
     "evalue": "iterable argument unpacking follows keyword argument unpacking (2030906331.py, line 5)",
     "output_type": "error",
     "traceback": [
      "\u001b[0;36m  Cell \u001b[0;32mIn[29], line 5\u001b[0;36m\u001b[0m\n\u001b[0;31m    pronotepy.ent.ac_clermont_ferrand({username}, {password}, *, url: str = 'https://cas.ent.auvergnerhonealpes.fr/login?selection=CLERMONT-ATS_parent_eleve')\u001b[0m\n\u001b[0m                                      ^\u001b[0m\n\u001b[0;31mSyntaxError\u001b[0m\u001b[0;31m:\u001b[0m iterable argument unpacking follows keyword argument unpacking\n"
     ]
    }
   ],
   "source": [
    "username = \"v.botte34\"\n",
    "password = \"Fel!x.07\"\n",
    "print(username,password)\n",
    "\n",
    "pronotepy.ent.ac_clermont_ferrand({username}, {password}, *, url: str = 'https://cas.ent.auvergnerhonealpes.fr/login?selection=CLERMONT-ATS_parent_eleve')"
   ]
  },
  {
   "cell_type": "code",
   "execution_count": null,
   "id": "af82f029-7568-43c6-be51-5c4717f163ee",
   "metadata": {},
   "outputs": [],
   "source": []
  }
 ],
 "metadata": {
  "kernelspec": {
   "display_name": "Python 3 (ipykernel)",
   "language": "python",
   "name": "python3"
  },
  "language_info": {
   "codemirror_mode": {
    "name": "ipython",
    "version": 3
   },
   "file_extension": ".py",
   "mimetype": "text/x-python",
   "name": "python",
   "nbconvert_exporter": "python",
   "pygments_lexer": "ipython3",
   "version": "3.11.5"
  }
 },
 "nbformat": 4,
 "nbformat_minor": 5
}
