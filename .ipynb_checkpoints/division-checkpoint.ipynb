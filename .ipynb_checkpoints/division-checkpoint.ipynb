{
 "cells": [
  {
   "cell_type": "code",
   "execution_count": 3,
   "id": "b52329c5",
   "metadata": {},
   "outputs": [
    {
     "name": "stdout",
     "output_type": "stream",
     "text": [
      "Entrez un numérateur : 12.5\n",
      "Désolé, les valeurs saisies ne sont pas des nombres.\n"
     ]
    }
   ],
   "source": [
    "try:\n",
    "    numerateur = int(input(\"Entrez un numérateur : \"))\n",
    "    denominateur = int(input(\"Entrez un dénominateur : \"))\n",
    "    resultat = numerateur / denominateur\n",
    "    print(\"Le resultat de la division est\", resultat)\n",
    "except ValueError:\n",
    "    print(\"Désolé, les valeurs saisies ne sont pas des nombres.\")\n",
    "except ZeroDivisionError:\n",
    "    print(\"Désolé, la division par zéro n'est pas permise.\")"
   ]
  },
  {
   "cell_type": "code",
   "execution_count": 5,
   "id": "7ac3c9a6",
   "metadata": {},
   "outputs": [
    {
     "name": "stdout",
     "output_type": "stream",
     "text": [
      "Entrez un numérateur : 12.5\n",
      "Entrez un dénominateur : 15\n",
      "Le resultat de la division est 0.8333333333333334\n"
     ]
    }
   ],
   "source": [
    "try:\n",
    "    numerateur = float(input(\"Entrez un numérateur : \"))\n",
    "    denominateur = int(input(\"Entrez un dénominateur : \"))\n",
    "    resultat = numerateur / denominateur\n",
    "    print(\"Le resultat de la division est\", resultat)\n",
    "except ValueError:\n",
    "    print(\"Désolé, les valeurs saisies ne sont pas des nombres.\")\n",
    "except ZeroDivisionError:\n",
    "    print(\"Désolé, la division par zéro n'est pas permise.\")"
   ]
  },
  {
   "cell_type": "code",
   "execution_count": null,
   "id": "d227ac69",
   "metadata": {},
   "outputs": [],
   "source": []
  }
 ],
 "metadata": {
  "kernelspec": {
   "display_name": "Python 3 (ipykernel)",
   "language": "python",
   "name": "python3"
  },
  "language_info": {
   "codemirror_mode": {
    "name": "ipython",
    "version": 3
   },
   "file_extension": ".py",
   "mimetype": "text/x-python",
   "name": "python",
   "nbconvert_exporter": "python",
   "pygments_lexer": "ipython3",
   "version": "3.11.5"
  }
 },
 "nbformat": 4,
 "nbformat_minor": 5
}
