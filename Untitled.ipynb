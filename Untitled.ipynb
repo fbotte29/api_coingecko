{
 "cells": [
  {
   "cell_type": "code",
   "execution_count": 1,
   "id": "2c31e75c",
   "metadata": {},
   "outputs": [],
   "source": [
    "import logging\n",
    "#import mylib\n",
    "\n",
    "logging.basicConfig(filename='example.log', encoding='utf-8', level=logging.DEBUG)\n",
    "logging.debug('This message should go to the log file')\n",
    "logging.info('So should this')\n",
    "logging.warning('And this, too')\n",
    "logging.error('And non-ASCII stuff, too, like Øresund and Malmö')\n"
   ]
  },
  {
   "cell_type": "code",
   "execution_count": 3,
   "id": "e5501927",
   "metadata": {},
   "outputs": [
    {
     "name": "stdout",
     "output_type": "stream",
     "text": [
      "Request successful!\n"
     ]
    }
   ],
   "source": [
    "import requests\n",
    "try:\n",
    "    response = requests.get(\"https://example.com\")\n",
    "    response.raise_for_status()  # Raise an exception for unsuccessful HTTP status codes\n",
    "    print(\"Request successful!\")\n",
    "except requests.exceptions.RequestException as e:\n",
    "    print(\"An error occurred:\", e)"
   ]
  },
  {
   "cell_type": "code",
   "execution_count": 1,
   "id": "89e3b1ac",
   "metadata": {},
   "outputs": [
    {
     "name": "stderr",
     "output_type": "stream",
     "text": [
      "WARNING:root:Watch out!\n"
     ]
    }
   ],
   "source": [
    "import logging\n",
    "logging.warning('Watch out!')  # will print a message to the console\n",
    "logging.info('I told you so')  # will not print anything"
   ]
  },
  {
   "cell_type": "code",
   "execution_count": 4,
   "id": "fdf2242f",
   "metadata": {},
   "outputs": [
    {
     "name": "stderr",
     "output_type": "stream",
     "text": [
      "DEBUG:root:test\n"
     ]
    }
   ],
   "source": [
    "import logging\n",
    "logging.debug(\"test\")"
   ]
  },
  {
   "cell_type": "code",
   "execution_count": 3,
   "id": "c268bcb9",
   "metadata": {},
   "outputs": [
    {
     "name": "stderr",
     "output_type": "stream",
     "text": [
      "DEBUG:root:test\n"
     ]
    }
   ],
   "source": [
    "import logging\n",
    "logger = logging.getLogger()\n",
    "logger.setLevel(logging.DEBUG)\n",
    "logging.debug(\"test\")"
   ]
  },
  {
   "cell_type": "code",
   "execution_count": 5,
   "id": "a9fa8fd5",
   "metadata": {},
   "outputs": [
    {
     "name": "stdout",
     "output_type": "stream",
     "text": [
      "Hello$ has the special characters in it\n"
     ]
    }
   ],
   "source": [
    "import re\n",
    "s = \"Hello$\"\n",
    "def has_special_char(s):\n",
    "   pattern = r'[^a-zA-Z0-9\\s]' \n",
    "   output = bool(re.search(pattern, s))\n",
    "   if output == True:\n",
    "      print(s, \"has the special characters in it\") \n",
    "   else:\n",
    "      print(s, \"has no special characters in it\")\n",
    "has_special_char(s)"
   ]
  },
  {
   "cell_type": "code",
   "execution_count": 7,
   "id": "2e0f8295-73ee-48ed-be4b-d53ac326b884",
   "metadata": {},
   "outputs": [
    {
     "name": "stdout",
     "output_type": "stream",
     "text": [
      "Hello Welcome to ,Tutorialspoint has the special characters in it\n"
     ]
    }
   ],
   "source": [
    "import string\n",
    "s = \"Hello Welcome to ,Tutorialspoint\"\n",
    "def has_special_char(s):\n",
    "   output = any(c in string.punctuation for c in s)\n",
    "   if output == True:\n",
    "      print(s, \"has the special characters in it\") \n",
    "   else:\n",
    "      print(s, \"has no special characters in it\")\n",
    "has_special_char(s)"
   ]
  },
  {
   "cell_type": "code",
   "execution_count": 8,
   "id": "5e70ec65-6e39-4bb9-9a57-232956f97c06",
   "metadata": {},
   "outputs": [
    {
     "name": "stdout",
     "output_type": "stream",
     "text": [
      "P Q R S T U V W X \n",
      "P Q R S T U V W \n",
      "P Q R S T U V \n",
      "P Q R S T U \n",
      "P Q R S T \n",
      "P Q R S \n",
      "P Q R \n",
      "P Q \n",
      "P \n",
      "d \n",
      "d e \n",
      "d e f \n",
      "d e f g \n",
      "d e f g h \n",
      "d e f g h i \n",
      "d e f g h i j \n",
      "d e f g h i j k \n",
      "d e f g h i j k l \n"
     ]
    }
   ],
   "source": [
    "def display(n):\n",
    "   val = n\n",
    "   while ( val >= 0) :\n",
    "      c = 80\n",
    "      for j in range(val + 1):\n",
    "         print( chr ( c + j ), end = \" \")\n",
    "      val = val - 1\n",
    "      print()\n",
    "   for i in range(n + 1):\n",
    "      c = 100\n",
    "      for j in range( i + 1):\n",
    "         print( chr ( c + j), end =\" \")\n",
    "      print()\n",
    "n = 8\n",
    "display(n)"
   ]
  },
  {
   "cell_type": "code",
   "execution_count": null,
   "id": "9524017d-92a3-42d9-b39c-48e78e901af6",
   "metadata": {},
   "outputs": [],
   "source": []
  }
 ],
 "metadata": {
  "kernelspec": {
   "display_name": "Python 3 (ipykernel)",
   "language": "python",
   "name": "python3"
  },
  "language_info": {
   "codemirror_mode": {
    "name": "ipython",
    "version": 3
   },
   "file_extension": ".py",
   "mimetype": "text/x-python",
   "name": "python",
   "nbconvert_exporter": "python",
   "pygments_lexer": "ipython3",
   "version": "3.11.5"
  }
 },
 "nbformat": 4,
 "nbformat_minor": 5
}
